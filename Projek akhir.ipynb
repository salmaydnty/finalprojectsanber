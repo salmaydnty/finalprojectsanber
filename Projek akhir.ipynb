{
 "cells": [
  {
   "cell_type": "code",
   "execution_count": 1,
   "id": "69617765",
   "metadata": {},
   "outputs": [
    {
     "data": {
      "text/html": [
       "<div>\n",
       "<style scoped>\n",
       "    .dataframe tbody tr th:only-of-type {\n",
       "        vertical-align: middle;\n",
       "    }\n",
       "\n",
       "    .dataframe tbody tr th {\n",
       "        vertical-align: top;\n",
       "    }\n",
       "\n",
       "    .dataframe thead th {\n",
       "        text-align: right;\n",
       "    }\n",
       "</style>\n",
       "<table border=\"1\" class=\"dataframe\">\n",
       "  <thead>\n",
       "    <tr style=\"text-align: right;\">\n",
       "      <th></th>\n",
       "      <th>Negara</th>\n",
       "      <th>Kematian_anak</th>\n",
       "      <th>Ekspor</th>\n",
       "      <th>Kesehatan</th>\n",
       "      <th>Impor</th>\n",
       "      <th>Pendapatan</th>\n",
       "      <th>Inflasi</th>\n",
       "      <th>Harapan_hidup</th>\n",
       "      <th>Jumlah_fertiliti</th>\n",
       "      <th>GDPperkapita</th>\n",
       "    </tr>\n",
       "  </thead>\n",
       "  <tbody>\n",
       "    <tr>\n",
       "      <th>0</th>\n",
       "      <td>Afghanistan</td>\n",
       "      <td>90.2</td>\n",
       "      <td>10.0</td>\n",
       "      <td>7.58</td>\n",
       "      <td>44.9</td>\n",
       "      <td>1610</td>\n",
       "      <td>9.44</td>\n",
       "      <td>56.2</td>\n",
       "      <td>5.82</td>\n",
       "      <td>553</td>\n",
       "    </tr>\n",
       "    <tr>\n",
       "      <th>1</th>\n",
       "      <td>Albania</td>\n",
       "      <td>16.6</td>\n",
       "      <td>28.0</td>\n",
       "      <td>6.55</td>\n",
       "      <td>48.6</td>\n",
       "      <td>9930</td>\n",
       "      <td>4.49</td>\n",
       "      <td>76.3</td>\n",
       "      <td>1.65</td>\n",
       "      <td>4090</td>\n",
       "    </tr>\n",
       "    <tr>\n",
       "      <th>2</th>\n",
       "      <td>Algeria</td>\n",
       "      <td>27.3</td>\n",
       "      <td>38.4</td>\n",
       "      <td>4.17</td>\n",
       "      <td>31.4</td>\n",
       "      <td>12900</td>\n",
       "      <td>16.10</td>\n",
       "      <td>76.5</td>\n",
       "      <td>2.89</td>\n",
       "      <td>4460</td>\n",
       "    </tr>\n",
       "    <tr>\n",
       "      <th>3</th>\n",
       "      <td>Angola</td>\n",
       "      <td>119.0</td>\n",
       "      <td>62.3</td>\n",
       "      <td>2.85</td>\n",
       "      <td>42.9</td>\n",
       "      <td>5900</td>\n",
       "      <td>22.40</td>\n",
       "      <td>60.1</td>\n",
       "      <td>6.16</td>\n",
       "      <td>3530</td>\n",
       "    </tr>\n",
       "    <tr>\n",
       "      <th>4</th>\n",
       "      <td>Antigua and Barbuda</td>\n",
       "      <td>10.3</td>\n",
       "      <td>45.5</td>\n",
       "      <td>6.03</td>\n",
       "      <td>58.9</td>\n",
       "      <td>19100</td>\n",
       "      <td>1.44</td>\n",
       "      <td>76.8</td>\n",
       "      <td>2.13</td>\n",
       "      <td>12200</td>\n",
       "    </tr>\n",
       "    <tr>\n",
       "      <th>...</th>\n",
       "      <td>...</td>\n",
       "      <td>...</td>\n",
       "      <td>...</td>\n",
       "      <td>...</td>\n",
       "      <td>...</td>\n",
       "      <td>...</td>\n",
       "      <td>...</td>\n",
       "      <td>...</td>\n",
       "      <td>...</td>\n",
       "      <td>...</td>\n",
       "    </tr>\n",
       "    <tr>\n",
       "      <th>162</th>\n",
       "      <td>Vanuatu</td>\n",
       "      <td>29.2</td>\n",
       "      <td>46.6</td>\n",
       "      <td>5.25</td>\n",
       "      <td>52.7</td>\n",
       "      <td>2950</td>\n",
       "      <td>2.62</td>\n",
       "      <td>63.0</td>\n",
       "      <td>3.50</td>\n",
       "      <td>2970</td>\n",
       "    </tr>\n",
       "    <tr>\n",
       "      <th>163</th>\n",
       "      <td>Venezuela</td>\n",
       "      <td>17.1</td>\n",
       "      <td>28.5</td>\n",
       "      <td>4.91</td>\n",
       "      <td>17.6</td>\n",
       "      <td>16500</td>\n",
       "      <td>45.90</td>\n",
       "      <td>75.4</td>\n",
       "      <td>2.47</td>\n",
       "      <td>13500</td>\n",
       "    </tr>\n",
       "    <tr>\n",
       "      <th>164</th>\n",
       "      <td>Vietnam</td>\n",
       "      <td>23.3</td>\n",
       "      <td>72.0</td>\n",
       "      <td>6.84</td>\n",
       "      <td>80.2</td>\n",
       "      <td>4490</td>\n",
       "      <td>12.10</td>\n",
       "      <td>73.1</td>\n",
       "      <td>1.95</td>\n",
       "      <td>1310</td>\n",
       "    </tr>\n",
       "    <tr>\n",
       "      <th>165</th>\n",
       "      <td>Yemen</td>\n",
       "      <td>56.3</td>\n",
       "      <td>30.0</td>\n",
       "      <td>5.18</td>\n",
       "      <td>34.4</td>\n",
       "      <td>4480</td>\n",
       "      <td>23.60</td>\n",
       "      <td>67.5</td>\n",
       "      <td>4.67</td>\n",
       "      <td>1310</td>\n",
       "    </tr>\n",
       "    <tr>\n",
       "      <th>166</th>\n",
       "      <td>Zambia</td>\n",
       "      <td>83.1</td>\n",
       "      <td>37.0</td>\n",
       "      <td>5.89</td>\n",
       "      <td>30.9</td>\n",
       "      <td>3280</td>\n",
       "      <td>14.00</td>\n",
       "      <td>52.0</td>\n",
       "      <td>5.40</td>\n",
       "      <td>1460</td>\n",
       "    </tr>\n",
       "  </tbody>\n",
       "</table>\n",
       "<p>167 rows × 10 columns</p>\n",
       "</div>"
      ],
      "text/plain": [
       "                  Negara  Kematian_anak  Ekspor  Kesehatan  Impor  Pendapatan  \\\n",
       "0            Afghanistan           90.2    10.0       7.58   44.9        1610   \n",
       "1                Albania           16.6    28.0       6.55   48.6        9930   \n",
       "2                Algeria           27.3    38.4       4.17   31.4       12900   \n",
       "3                 Angola          119.0    62.3       2.85   42.9        5900   \n",
       "4    Antigua and Barbuda           10.3    45.5       6.03   58.9       19100   \n",
       "..                   ...            ...     ...        ...    ...         ...   \n",
       "162              Vanuatu           29.2    46.6       5.25   52.7        2950   \n",
       "163            Venezuela           17.1    28.5       4.91   17.6       16500   \n",
       "164              Vietnam           23.3    72.0       6.84   80.2        4490   \n",
       "165                Yemen           56.3    30.0       5.18   34.4        4480   \n",
       "166               Zambia           83.1    37.0       5.89   30.9        3280   \n",
       "\n",
       "     Inflasi  Harapan_hidup  Jumlah_fertiliti  GDPperkapita  \n",
       "0       9.44           56.2              5.82           553  \n",
       "1       4.49           76.3              1.65          4090  \n",
       "2      16.10           76.5              2.89          4460  \n",
       "3      22.40           60.1              6.16          3530  \n",
       "4       1.44           76.8              2.13         12200  \n",
       "..       ...            ...               ...           ...  \n",
       "162     2.62           63.0              3.50          2970  \n",
       "163    45.90           75.4              2.47         13500  \n",
       "164    12.10           73.1              1.95          1310  \n",
       "165    23.60           67.5              4.67          1310  \n",
       "166    14.00           52.0              5.40          1460  \n",
       "\n",
       "[167 rows x 10 columns]"
      ]
     },
     "execution_count": 1,
     "metadata": {},
     "output_type": "execute_result"
    }
   ],
   "source": [
    "import pandas as pd\n",
    "import numpy as np\n",
    "import scipy.stats\n",
    "import matplotlib.pyplot as plt\n",
    "import seaborn as sns\n",
    "\n",
    "df = pd.read_csv('Data_Negara_HELP.csv')\n",
    "df"
   ]
  },
  {
   "cell_type": "code",
   "execution_count": 2,
   "id": "709a6152",
   "metadata": {},
   "outputs": [
    {
     "name": "stdout",
     "output_type": "stream",
     "text": [
      "<class 'pandas.core.frame.DataFrame'>\n",
      "RangeIndex: 167 entries, 0 to 166\n",
      "Data columns (total 10 columns):\n",
      " #   Column            Non-Null Count  Dtype  \n",
      "---  ------            --------------  -----  \n",
      " 0   Negara            167 non-null    object \n",
      " 1   Kematian_anak     167 non-null    float64\n",
      " 2   Ekspor            167 non-null    float64\n",
      " 3   Kesehatan         167 non-null    float64\n",
      " 4   Impor             167 non-null    float64\n",
      " 5   Pendapatan        167 non-null    int64  \n",
      " 6   Inflasi           167 non-null    float64\n",
      " 7   Harapan_hidup     167 non-null    float64\n",
      " 8   Jumlah_fertiliti  167 non-null    float64\n",
      " 9   GDPperkapita      167 non-null    int64  \n",
      "dtypes: float64(7), int64(2), object(1)\n",
      "memory usage: 13.2+ KB\n"
     ]
    }
   ],
   "source": [
    "#check missing value\n",
    "df.info()"
   ]
  },
  {
   "cell_type": "markdown",
   "id": "84540b2c",
   "metadata": {},
   "source": [
    "<H1> Check Ouliers All Columns <H1/>"
   ]
  },
  {
   "cell_type": "code",
   "execution_count": 3,
   "id": "e2ab95ee",
   "metadata": {},
   "outputs": [
    {
     "data": {
      "image/png": "[encoded data removed]",
      "text/plain": [
       "<Figure size 144x360 with 1 Axes>"
      ]
     },
     "metadata": {
      "needs_background": "light"
     },
     "output_type": "display_data"
    }
   ],
   "source": [
    "#check Ouliers kolom Kematian_anak\n",
    "plt.figure(figsize=(2,5))\n",
    "plt.suptitle(\"Distribution before Capping\", fontsize=18)\n",
    "sns.boxplot(data = df[\"Kematian_anak\"], palette=\"Dark2\")\n",
    "plt.show()"
   ]
  },
  {
   "cell_type": "code",
   "execution_count": 4,
   "id": "111f9061",
   "metadata": {},
   "outputs": [],
   "source": [
    "#finding the Q1(25 percentile) and Q3(75 percentile)\n",
    "q1 = df[\"Kematian_anak\"].quantile(0.25)\n",
    "q2 = df[\"Kematian_anak\"].quantile(0.75)\n",
    "\n",
    "#finding out the value of Inter Quartile Range\n",
    "IQR = q2 - q1\n",
    "\n",
    "#defining max and min limits\n",
    "max_limit = q2 + (1.5 * IQR)\n",
    "min_limit = q1 - (1.5 * IQR)"
   ]
  },
  {
   "cell_type": "code",
   "execution_count": 5,
   "id": "a4efdd47",
   "metadata": {},
   "outputs": [],
   "source": [
    "#capping\n",
    "df_cap_Kematian_anak = pd.DataFrame(np.where(df[\"Kematian_anak\"] > max_limit, max_limit, \n",
    "         (np.where(df[\"Kematian_anak\"] < min_limit, min_limit, df[\"Kematian_anak\"]))), columns=[\"Kematian_anak\"])"
   ]
  },
  {
   "cell_type": "code",
   "execution_count": 6,
   "id": "bb2616de",
   "metadata": {},
   "outputs": [
    {
     "data": {
      "image/png": "[encoded data removed]",
      "text/plain": [
       "<Figure size 144x360 with 1 Axes>"
      ]
     },
     "metadata": {
      "needs_background": "light"
     },
     "output_type": "display_data"
    }
   ],
   "source": [
    "plt.figure(figsize=(2,5))\n",
    "plt.suptitle(\"Distribution after Capping\",fontsize=18)\n",
    "sns.boxplot(data = df_cap_Kematian_anak, palette=\"Dark2\")\n",
    "plt.show()"
   ]
  },
  {
   "cell_type": "code",
   "execution_count": 7,
   "id": "5b23807f",
   "metadata": {},
   "outputs": [],
   "source": [
    "#finding the Q1(25 percentile) and Q3(75 percentile)\n",
    "q1 = df[\"Ekspor\"].quantile(0.25)\n",
    "q2 = df[\"Ekspor\"].quantile(0.75)"
   ]
  },
  {
   "cell_type": "code",
   "execution_count": 8,
   "id": "72d48565",
   "metadata": {},
   "outputs": [],
   "source": [
    "#finding out the value of Inter Quartile Range\n",
    "IQR = q2 - q1\n",
    "\n",
    "#defining max and min limits\n",
    "max_limit = q2 + (1.5 * IQR)\n",
    "min_limit = q1 - (1.5 * IQR)"
   ]
  },
  {
   "cell_type": "code",
   "execution_count": null,
   "id": "2741f273",
   "metadata": {},
   "outputs": [],
   "source": []
  },
  {
   "cell_type": "code",
   "execution_count": 9,
   "id": "4bc015c9",
   "metadata": {},
   "outputs": [],
   "source": [
    "#capping\n",
    "df_cap_Ekspor = pd.DataFrame(np.where(df[\"Ekspor\"] > max_limit, max_limit, \n",
    "         (np.where(df[\"Ekspor\"] < min_limit, min_limit, df[\"Ekspor\"]))), columns=[\"Ekspor\"])"
   ]
  },
  {
   "cell_type": "code",
   "execution_count": 10,
   "id": "7b06a2af",
   "metadata": {},
   "outputs": [
    {
     "data": {
      "image/png": "[encoded data removed]",
      "text/plain": [
       "<Figure size 144x360 with 1 Axes>"
      ]
     },
     "metadata": {
      "needs_background": "light"
     },
     "output_type": "display_data"
    }
   ],
   "source": [
    "plt.figure(figsize=(2,5))\n",
    "plt.suptitle(\"Distribution before Capping\", fontsize=18)\n",
    "sns.boxplot(data = df[\"Ekspor\"], palette=\"Dark2\")\n",
    "plt.show()"
   ]
  },
  {
   "cell_type": "code",
   "execution_count": 11,
   "id": "0fd117f1",
   "metadata": {},
   "outputs": [
    {
     "data": {
      "image/png": "[encoded data removed]",
      "text/plain": [
       "<Figure size 144x360 with 1 Axes>"
      ]
     },
     "metadata": {
      "needs_background": "light"
     },
     "output_type": "display_data"
    }
   ],
   "source": [
    "plt.figure(figsize=(2,5))\n",
    "plt.suptitle(\"Distribution after Capping\",fontsize=18)\n",
    "sns.boxplot(data = df_cap_Ekspor, palette=\"Dark2\")\n",
    "plt.show()"
   ]
  },
  {
   "cell_type": "code",
   "execution_count": 12,
   "id": "80f7b33d",
   "metadata": {},
   "outputs": [],
   "source": [
    "#finding the Q1(25 percentile) and Q3(75 percentile)\n",
    "q1 = df[\"Kesehatan\"].quantile(0.25)\n",
    "q2 = df[\"Kesehatan\"].quantile(0.75)"
   ]
  },
  {
   "cell_type": "code",
   "execution_count": 13,
   "id": "8981e313",
   "metadata": {},
   "outputs": [],
   "source": [
    "#finding out the value of Inter Quartile Range\n",
    "IQR = q2 - q1\n",
    "\n",
    "#defining max and min limits\n",
    "max_limit = q2 + (1.5 * IQR)\n",
    "min_limit = q1 - (1.5 * IQR)"
   ]
  },
  {
   "cell_type": "code",
   "execution_count": 14,
   "id": "9583494f",
   "metadata": {},
   "outputs": [],
   "source": [
    "#capping\n",
    "df_cap_Kesehatan = pd.DataFrame(np.where(df[\"Kesehatan\"] > max_limit, max_limit, \n",
    "         (np.where(df[\"Kesehatan\"] < min_limit, min_limit, df[\"Kesehatan\"]))), columns=[\"Kesehatan\"])"
   ]
  },
  {
   "cell_type": "code",
   "execution_count": 15,
   "id": "fd79d89d",
   "metadata": {},
   "outputs": [
    {
     "data": {
      "image/png": "[encoded data removed]",
      "text/plain": [
       "<Figure size 144x360 with 1 Axes>"
      ]
     },
     "metadata": {
      "needs_background": "light"
     },
     "output_type": "display_data"
    }
   ],
   "source": [
    "plt.figure(figsize=(2,5))\n",
    "plt.suptitle(\"Distribution before Capping\", fontsize=18)\n",
    "sns.boxplot(data = df[\"Kesehatan\"], palette=\"Dark2\")\n",
    "plt.show()"
   ]
  },
  {
   "cell_type": "code",
   "execution_count": 16,
   "id": "164f5db7",
   "metadata": {},
   "outputs": [
    {
     "data": {
      "image/png": "[encoded data removed]",
      "text/plain": [
       "<Figure size 144x360 with 1 Axes>"
      ]
     },
     "metadata": {
      "needs_background": "light"
     },
     "output_type": "display_data"
    }
   ],
   "source": [
    "plt.figure(figsize=(2,5))\n",
    "plt.suptitle(\"Distribution after Capping\",fontsize=18)\n",
    "sns.boxplot(data = df_cap_Kesehatan, palette=\"Dark2\")\n",
    "plt.show()"
   ]
  },
  {
   "cell_type": "code",
   "execution_count": 17,
   "id": "07982633",
   "metadata": {},
   "outputs": [],
   "source": [
    "#finding the Q1(25 percentile) and Q3(75 percentile)\n",
    "q1 = df[\"Impor\"].quantile(0.25)\n",
    "q2 = df[\"Impor\"].quantile(0.75)"
   ]
  },
  {
   "cell_type": "code",
   "execution_count": 18,
   "id": "671bcdc4",
   "metadata": {},
   "outputs": [],
   "source": [
    "#finding out the value of Inter Quartile Range\n",
    "IQR = q2 - q1\n",
    "\n",
    "#defining max and min limits\n",
    "max_limit = q2 + (1.5 * IQR)\n",
    "min_limit = q1 - (1.5 * IQR)"
   ]
  },
  {
   "cell_type": "code",
   "execution_count": 19,
   "id": "dedb4e04",
   "metadata": {},
   "outputs": [],
   "source": [
    "#capping\n",
    "df_cap_Impor = pd.DataFrame(np.where(df[\"Impor\"] > max_limit, max_limit, \n",
    "         (np.where(df[\"Impor\"] < min_limit, min_limit, df[\"Impor\"]))), columns=[\"Impor\"])"
   ]
  },
  {
   "cell_type": "code",
   "execution_count": 20,
   "id": "a38014d5",
   "metadata": {},
   "outputs": [
    {
     "data": {
      "image/png": "[encoded data removed]",
      "text/plain": [
       "<Figure size 144x360 with 1 Axes>"
      ]
     },
     "metadata": {
      "needs_background": "light"
     },
     "output_type": "display_data"
    }
   ],
   "source": [
    "plt.figure(figsize=(2,5))\n",
    "plt.suptitle(\"Distribution before Capping\", fontsize=18)\n",
    "sns.boxplot(data = df[\"Impor\"], palette=\"Dark2\")\n",
    "plt.show()"
   ]
  },
  {
   "cell_type": "code",
   "execution_count": 21,
   "id": "6e715fb3",
   "metadata": {},
   "outputs": [
    {
     "data": {
      "image/png": "[encoded data removed]",
      "text/plain": [
       "<Figure size 144x360 with 1 Axes>"
      ]
     },
     "metadata": {
      "needs_background": "light"
     },
     "output_type": "display_data"
    }
   ],
   "source": [
    "plt.figure(figsize=(2,5))\n",
    "plt.suptitle(\"Distribution after Capping\",fontsize=18)\n",
    "sns.boxplot(data = df_cap_Impor, palette=\"Dark2\")\n",
    "plt.show()"
   ]
  },
  {
   "cell_type": "code",
   "execution_count": 22,
   "id": "0ec44f6f",
   "metadata": {},
   "outputs": [],
   "source": [
    "#finding the Q1(25 percentile) and Q3(75 percentile)\n",
    "q1 = df[\"Pendapatan\"].quantile(0.25)\n",
    "q2 = df[\"Pendapatan\"].quantile(0.75)"
   ]
  },
  {
   "cell_type": "code",
   "execution_count": 23,
   "id": "9ffb5343",
   "metadata": {},
   "outputs": [],
   "source": [
    "#finding out the value of Inter Quartile Range\n",
    "IQR = q2 - q1\n",
    "\n",
    "#defining max and min limits\n",
    "max_limit = q2 + (1.5 * IQR)\n",
    "min_limit = q1 - (1.5 * IQR)"
   ]
  },
  {
   "cell_type": "code",
   "execution_count": 24,
   "id": "64d7f55e",
   "metadata": {},
   "outputs": [],
   "source": [
    "#capping\n",
    "df_cap_Pendapatan = pd.DataFrame(np.where(df[\"Pendapatan\"] > max_limit, max_limit, \n",
    "         (np.where(df[\"Pendapatan\"] < min_limit, min_limit, df[\"Pendapatan\"]))), columns=[\"Pendapatan\"])"
   ]
  },
  {
   "cell_type": "code",
   "execution_count": 25,
   "id": "032c82a7",
   "metadata": {},
   "outputs": [
    {
     "data": {
      "image/png": "[encoded data removed]",
      "text/plain": [
       "<Figure size 144x360 with 1 Axes>"
      ]
     },
     "metadata": {
      "needs_background": "light"
     },
     "output_type": "display_data"
    }
   ],
   "source": [
    "plt.figure(figsize=(2,5))\n",
    "plt.suptitle(\"Distribution before Capping\", fontsize=18)\n",
    "sns.boxplot(data = df[\"Pendapatan\"], palette=\"Dark2\")\n",
    "plt.show()"
   ]
  },
  {
   "cell_type": "code",
   "execution_count": 26,
   "id": "c441da8e",
   "metadata": {},
   "outputs": [
    {
     "data": {
      "image/png": "[encoded data removed]",
      "text/plain": [
       "<Figure size 144x360 with 1 Axes>"
      ]
     },
     "metadata": {
      "needs_background": "light"
     },
     "output_type": "display_data"
    }
   ],
   "source": [
    "plt.figure(figsize=(2,5))\n",
    "plt.suptitle(\"Distribution after Capping\",fontsize=18)\n",
    "sns.boxplot(data = df_cap_Pendapatan, palette=\"Dark2\")\n",
    "plt.show()"
   ]
  },
  {
   "cell_type": "code",
   "execution_count": 27,
   "id": "f9d84a32",
   "metadata": {},
   "outputs": [],
   "source": [
    "#finding the Q1(25 percentile) and Q3(75 percentile)\n",
    "q1 = df[\"Inflasi\"].quantile(0.25)\n",
    "q2 = df[\"Inflasi\"].quantile(0.75)"
   ]
  },
  {
   "cell_type": "code",
   "execution_count": 28,
   "id": "422ada0a",
   "metadata": {},
   "outputs": [],
   "source": [
    "#finding out the value of Inter Quartile Range\n",
    "IQR = q2 - q1\n",
    "\n",
    "#defining max and min limits\n",
    "max_limit = q2 + (1.5 * IQR)\n",
    "min_limit = q1 - (1.5 * IQR)"
   ]
  },
  {
   "cell_type": "code",
   "execution_count": 29,
   "id": "b8f303dd",
   "metadata": {},
   "outputs": [],
   "source": [
    "#capping\n",
    "df_cap_Inflasi = pd.DataFrame(np.where(df[\"Inflasi\"] > max_limit, max_limit, \n",
    "         (np.where(df[\"Inflasi\"] < min_limit, min_limit, df[\"Inflasi\"]))), columns=[\"Inflasi\"])"
   ]
  },
  {
   "cell_type": "code",
   "execution_count": 30,
   "id": "b5172eb2",
   "metadata": {},
   "outputs": [
    {
     "data": {
      "image/png": "[encoded data removed]",
      "text/plain": [
       "<Figure size 144x360 with 1 Axes>"
      ]
     },
     "metadata": {
      "needs_background": "light"
     },
     "output_type": "display_data"
    }
   ],
   "source": [
    "plt.figure(figsize=(2,5))\n",
    "plt.suptitle(\"Distribution before Capping\", fontsize=18)\n",
    "sns.boxplot(data = df[\"Inflasi\"], palette=\"Dark2\")\n",
    "plt.show()"
   ]
  },
  {
   "cell_type": "code",
   "execution_count": 31,
   "id": "5566b493",
   "metadata": {},
   "outputs": [
    {
     "data": {
      "image/png": "[encoded data removed]",
      "text/plain": [
       "<Figure size 144x360 with 1 Axes>"
      ]
     },
     "metadata": {
      "needs_background": "light"
     },
     "output_type": "display_data"
    }
   ],
   "source": [
    "plt.figure(figsize=(2,5))\n",
    "plt.suptitle(\"Distribution after Capping\",fontsize=18)\n",
    "sns.boxplot(data = df_cap_Inflasi, palette=\"Dark2\")\n",
    "plt.show()"
   ]
  },
  {
   "cell_type": "code",
   "execution_count": 32,
   "id": "4a9df315",
   "metadata": {},
   "outputs": [],
   "source": [
    "#finding the Q1(25 percentile) and Q3(75 percentile)\n",
    "q1 = df[\"Harapan_hidup\"].quantile(0.25)\n",
    "q2 = df[\"Harapan_hidup\"].quantile(0.75)"
   ]
  },
  {
   "cell_type": "code",
   "execution_count": 33,
   "id": "3883dc25",
   "metadata": {},
   "outputs": [],
   "source": [
    "#finding out the value of Inter Quartile Range\n",
    "IQR = q2 - q1\n",
    "\n",
    "#defining max and min limits\n",
    "max_limit = q2 + (1.5 * IQR)\n",
    "min_limit = q1 - (1.5 * IQR)"
   ]
  },
  {
   "cell_type": "code",
   "execution_count": 34,
   "id": "27d063d5",
   "metadata": {},
   "outputs": [],
   "source": [
    "#capping\n",
    "df_cap_Harapan_hidup = pd.DataFrame(np.where(df[\"Harapan_hidup\"] > max_limit, max_limit, \n",
    "         (np.where(df[\"Harapan_hidup\"] < min_limit, min_limit, df[\"Harapan_hidup\"]))), columns=[\"Harapan_hidup\"])"
   ]
  },
  {
   "cell_type": "code",
   "execution_count": 35,
   "id": "edefb556",
   "metadata": {},
   "outputs": [
    {
     "data": {
      "image/png": "[encoded data removed]",
      "text/plain": [
       "<Figure size 144x360 with 1 Axes>"
      ]
     },
     "metadata": {
      "needs_background": "light"
     },
     "output_type": "display_data"
    }
   ],
   "source": [
    "plt.figure(figsize=(2,5))\n",
    "plt.suptitle(\"Distribution before Capping\", fontsize=18)\n",
    "sns.boxplot(data = df[\"Harapan_hidup\"], palette=\"Dark2\")\n",
    "plt.show()"
   ]
  },
  {
   "cell_type": "code",
   "execution_count": 36,
   "id": "45962616",
   "metadata": {},
   "outputs": [
    {
     "data": {
      "image/png": "[encoded data removed]",
      "text/plain": [
       "<Figure size 144x360 with 1 Axes>"
      ]
     },
     "metadata": {
      "needs_background": "light"
     },
     "output_type": "display_data"
    }
   ],
   "source": [
    "plt.figure(figsize=(2,5))\n",
    "plt.suptitle(\"Distribution after Capping\",fontsize=18)\n",
    "sns.boxplot(data = df_cap_Harapan_hidup, palette=\"Dark2\")\n",
    "plt.show()"
   ]
  },
  {
   "cell_type": "code",
   "execution_count": 37,
   "id": "a582890d",
   "metadata": {},
   "outputs": [],
   "source": [
    "#finding the Q1(25 percentile) and Q3(75 percentile)\n",
    "q1 = df[\"Jumlah_fertiliti\"].quantile(0.25)\n",
    "q2 = df[\"Jumlah_fertiliti\"].quantile(0.75)"
   ]
  },
  {
   "cell_type": "code",
   "execution_count": 38,
   "id": "b776ec82",
   "metadata": {},
   "outputs": [],
   "source": [
    "#finding out the value of Inter Quartile Range\n",
    "IQR = q2 - q1\n",
    "\n",
    "#defining max and min limits\n",
    "max_limit = q2 + (1.5 * IQR)\n",
    "min_limit = q1 - (1.5 * IQR)"
   ]
  },
  {
   "cell_type": "code",
   "execution_count": 39,
   "id": "ec04d2f9",
   "metadata": {},
   "outputs": [],
   "source": [
    "#capping\n",
    "df_cap_Jumlah_fertiliti = pd.DataFrame(np.where(df[\"Jumlah_fertiliti\"] > max_limit, max_limit, \n",
    "         (np.where(df[\"Jumlah_fertiliti\"] < min_limit, min_limit, df[\"Jumlah_fertiliti\"]))), columns=[\"Jumlah_fertiliti\"])"
   ]
  },
  {
   "cell_type": "code",
   "execution_count": 40,
   "id": "bdf35b1a",
   "metadata": {},
   "outputs": [
    {
     "data": {
      "image/png": "[encoded data removed]",
      "text/plain": [
       "<Figure size 144x360 with 1 Axes>"
      ]
     },
     "metadata": {
      "needs_background": "light"
     },
     "output_type": "display_data"
    }
   ],
   "source": [
    "plt.figure(figsize=(2,5))\n",
    "plt.suptitle(\"Distribution before Capping\", fontsize=18)\n",
    "sns.boxplot(data = df[\"Jumlah_fertiliti\"], palette=\"Dark2\")\n",
    "plt.show()"
   ]
  },
  {
   "cell_type": "code",
   "execution_count": 41,
   "id": "5ec03370",
   "metadata": {},
   "outputs": [
    {
     "data": {
      "image/png": "[encoded data removed]",
      "text/plain": [
       "<Figure size 144x360 with 1 Axes>"
      ]
     },
     "metadata": {
      "needs_background": "light"
     },
     "output_type": "display_data"
    }
   ],
   "source": [
    "plt.figure(figsize=(2,5))\n",
    "plt.suptitle(\"Distribution after Capping\",fontsize=18)\n",
    "sns.boxplot(data = df_cap_Jumlah_fertiliti, palette=\"Dark2\")\n",
    "plt.show()"
   ]
  },
  {
   "cell_type": "code",
   "execution_count": 42,
   "id": "4f46d591",
   "metadata": {},
   "outputs": [],
   "source": [
    "#finding the Q1(25 percentile) and Q3(75 percentile)\n",
    "q1 = df[\"GDPperkapita\"].quantile(0.25)\n",
    "q2 = df[\"GDPperkapita\"].quantile(0.75)"
   ]
  },
  {
   "cell_type": "code",
   "execution_count": 43,
   "id": "2feb0701",
   "metadata": {},
   "outputs": [],
   "source": [
    "#finding out the value of Inter Quartile Range\n",
    "IQR = q2 - q1\n",
    "\n",
    "#defining max and min limits\n",
    "max_limit = q2 + (1.5 * IQR)\n",
    "min_limit = q1 - (1.5 * IQR)"
   ]
  },
  {
   "cell_type": "code",
   "execution_count": 44,
   "id": "2e245a53",
   "metadata": {},
   "outputs": [],
   "source": [
    "#capping\n",
    "df_cap_GDPperkapita = pd.DataFrame(np.where(df[\"GDPperkapita\"] > max_limit, max_limit, \n",
    "         (np.where(df[\"GDPperkapita\"] < min_limit, min_limit, df[\"GDPperkapita\"]))), columns=[\"GDPperkapita\"])"
   ]
  },
  {
   "cell_type": "code",
   "execution_count": 45,
   "id": "1b6b53e2",
   "metadata": {},
   "outputs": [
    {
     "data": {
      "image/png": "[encoded data removed]",
      "text/plain": [
       "<Figure size 144x360 with 1 Axes>"
      ]
     },
     "metadata": {
      "needs_background": "light"
     },
     "output_type": "display_data"
    }
   ],
   "source": [
    "plt.figure(figsize=(2,5))\n",
    "plt.suptitle(\"Distribution before Capping\", fontsize=18)\n",
    "sns.boxplot(data = df[\"GDPperkapita\"], palette=\"Dark2\")\n",
    "plt.show()"
   ]
  },
  {
   "cell_type": "code",
   "execution_count": 46,
   "id": "0d4c79cc",
   "metadata": {},
   "outputs": [
    {
     "data": {
      "image/png": "[encoded data removed]",
      "text/plain": [
       "<Figure size 144x360 with 1 Axes>"
      ]
     },
     "metadata": {
      "needs_background": "light"
     },
     "output_type": "display_data"
    }
   ],
   "source": [
    "plt.figure(figsize=(2,5))\n",
    "plt.suptitle(\"Distribution after Capping\",fontsize=18)\n",
    "sns.boxplot(data = df_cap_GDPperkapita, palette=\"Dark2\")\n",
    "plt.show()"
   ]
  },
  {
   "cell_type": "code",
   "execution_count": 47,
   "id": "0063dbcd",
   "metadata": {},
   "outputs": [
    {
     "data": {
      "text/plain": [
       "Kesehatan    1.81\n",
       "dtype: float64"
      ]
     },
     "execution_count": 47,
     "metadata": {},
     "output_type": "execute_result"
    }
   ],
   "source": [
    "df_cap_Kesehatan.min()"
   ]
  },
  {
   "cell_type": "code",
   "execution_count": 48,
   "id": "82ee464d",
   "metadata": {},
   "outputs": [
    {
     "data": {
      "text/plain": [
       "GDPperkapita    231.0\n",
       "dtype: float64"
      ]
     },
     "execution_count": 48,
     "metadata": {},
     "output_type": "execute_result"
    }
   ],
   "source": [
    "df_cap_GDPperkapita.min()"
   ]
  },
  {
   "cell_type": "code",
   "execution_count": 49,
   "id": "e83eb5d9",
   "metadata": {},
   "outputs": [
    {
     "data": {
      "text/plain": [
       "Kesehatan    14.12\n",
       "dtype: float64"
      ]
     },
     "execution_count": 49,
     "metadata": {},
     "output_type": "execute_result"
    }
   ],
   "source": [
    "df_cap_Kesehatan.max()"
   ]
  },
  {
   "cell_type": "code",
   "execution_count": 50,
   "id": "c875c88c",
   "metadata": {},
   "outputs": [
    {
     "data": {
      "text/plain": [
       "GDPperkapita    33130.0\n",
       "dtype: float64"
      ]
     },
     "execution_count": 50,
     "metadata": {},
     "output_type": "execute_result"
    }
   ],
   "source": [
    "df_cap_GDPperkapita.max()"
   ]
  },
  {
   "cell_type": "markdown",
   "id": "ad8b7974",
   "metadata": {},
   "source": [
    "<H1> Data Scale </H1>"
   ]
  },
  {
   "cell_type": "code",
   "execution_count": 51,
   "id": "92a04bd9",
   "metadata": {},
   "outputs": [],
   "source": [
    "df_min_max=df.copy()"
   ]
  },
  {
   "cell_type": "code",
   "execution_count": 52,
   "id": "730e6942",
   "metadata": {},
   "outputs": [],
   "source": [
    "from sklearn.preprocessing import MinMaxScaler"
   ]
  },
  {
   "cell_type": "code",
   "execution_count": 53,
   "id": "b1075141",
   "metadata": {},
   "outputs": [
    {
     "data": {
      "text/html": [
       "<div>\n",
       "<style scoped>\n",
       "    .dataframe tbody tr th:only-of-type {\n",
       "        vertical-align: middle;\n",
       "    }\n",
       "\n",
       "    .dataframe tbody tr th {\n",
       "        vertical-align: top;\n",
       "    }\n",
       "\n",
       "    .dataframe thead th {\n",
       "        text-align: right;\n",
       "    }\n",
       "</style>\n",
       "<table border=\"1\" class=\"dataframe\">\n",
       "  <thead>\n",
       "    <tr style=\"text-align: right;\">\n",
       "      <th></th>\n",
       "      <th>Negara</th>\n",
       "      <th>Kematian_anak</th>\n",
       "      <th>Ekspor</th>\n",
       "      <th>Kesehatan</th>\n",
       "      <th>Impor</th>\n",
       "      <th>Pendapatan</th>\n",
       "      <th>Inflasi</th>\n",
       "      <th>Harapan_hidup</th>\n",
       "      <th>Jumlah_fertiliti</th>\n",
       "      <th>GDPperkapita</th>\n",
       "    </tr>\n",
       "  </thead>\n",
       "  <tbody>\n",
       "    <tr>\n",
       "      <th>0</th>\n",
       "      <td>Afghanistan</td>\n",
       "      <td>90.2</td>\n",
       "      <td>10.0</td>\n",
       "      <td>0.358608</td>\n",
       "      <td>44.9</td>\n",
       "      <td>1610</td>\n",
       "      <td>0.126144</td>\n",
       "      <td>56.2</td>\n",
       "      <td>5.82</td>\n",
       "      <td>553</td>\n",
       "    </tr>\n",
       "    <tr>\n",
       "      <th>1</th>\n",
       "      <td>Albania</td>\n",
       "      <td>16.6</td>\n",
       "      <td>28.0</td>\n",
       "      <td>0.294593</td>\n",
       "      <td>48.6</td>\n",
       "      <td>9930</td>\n",
       "      <td>0.080399</td>\n",
       "      <td>76.3</td>\n",
       "      <td>1.65</td>\n",
       "      <td>4090</td>\n",
       "    </tr>\n",
       "    <tr>\n",
       "      <th>2</th>\n",
       "      <td>Algeria</td>\n",
       "      <td>27.3</td>\n",
       "      <td>38.4</td>\n",
       "      <td>0.146675</td>\n",
       "      <td>31.4</td>\n",
       "      <td>12900</td>\n",
       "      <td>0.187691</td>\n",
       "      <td>76.5</td>\n",
       "      <td>2.89</td>\n",
       "      <td>4460</td>\n",
       "    </tr>\n",
       "    <tr>\n",
       "      <th>3</th>\n",
       "      <td>Angola</td>\n",
       "      <td>119.0</td>\n",
       "      <td>62.3</td>\n",
       "      <td>0.064636</td>\n",
       "      <td>42.9</td>\n",
       "      <td>5900</td>\n",
       "      <td>0.245911</td>\n",
       "      <td>60.1</td>\n",
       "      <td>6.16</td>\n",
       "      <td>3530</td>\n",
       "    </tr>\n",
       "    <tr>\n",
       "      <th>4</th>\n",
       "      <td>Antigua and Barbuda</td>\n",
       "      <td>10.3</td>\n",
       "      <td>45.5</td>\n",
       "      <td>0.262275</td>\n",
       "      <td>58.9</td>\n",
       "      <td>19100</td>\n",
       "      <td>0.052213</td>\n",
       "      <td>76.8</td>\n",
       "      <td>2.13</td>\n",
       "      <td>12200</td>\n",
       "    </tr>\n",
       "    <tr>\n",
       "      <th>...</th>\n",
       "      <td>...</td>\n",
       "      <td>...</td>\n",
       "      <td>...</td>\n",
       "      <td>...</td>\n",
       "      <td>...</td>\n",
       "      <td>...</td>\n",
       "      <td>...</td>\n",
       "      <td>...</td>\n",
       "      <td>...</td>\n",
       "      <td>...</td>\n",
       "    </tr>\n",
       "    <tr>\n",
       "      <th>162</th>\n",
       "      <td>Vanuatu</td>\n",
       "      <td>29.2</td>\n",
       "      <td>46.6</td>\n",
       "      <td>0.213797</td>\n",
       "      <td>52.7</td>\n",
       "      <td>2950</td>\n",
       "      <td>0.063118</td>\n",
       "      <td>63.0</td>\n",
       "      <td>3.50</td>\n",
       "      <td>2970</td>\n",
       "    </tr>\n",
       "    <tr>\n",
       "      <th>163</th>\n",
       "      <td>Venezuela</td>\n",
       "      <td>17.1</td>\n",
       "      <td>28.5</td>\n",
       "      <td>0.192666</td>\n",
       "      <td>17.6</td>\n",
       "      <td>16500</td>\n",
       "      <td>0.463081</td>\n",
       "      <td>75.4</td>\n",
       "      <td>2.47</td>\n",
       "      <td>13500</td>\n",
       "    </tr>\n",
       "    <tr>\n",
       "      <th>164</th>\n",
       "      <td>Vietnam</td>\n",
       "      <td>23.3</td>\n",
       "      <td>72.0</td>\n",
       "      <td>0.312617</td>\n",
       "      <td>80.2</td>\n",
       "      <td>4490</td>\n",
       "      <td>0.150725</td>\n",
       "      <td>73.1</td>\n",
       "      <td>1.95</td>\n",
       "      <td>1310</td>\n",
       "    </tr>\n",
       "    <tr>\n",
       "      <th>165</th>\n",
       "      <td>Yemen</td>\n",
       "      <td>56.3</td>\n",
       "      <td>30.0</td>\n",
       "      <td>0.209447</td>\n",
       "      <td>34.4</td>\n",
       "      <td>4480</td>\n",
       "      <td>0.257000</td>\n",
       "      <td>67.5</td>\n",
       "      <td>4.67</td>\n",
       "      <td>1310</td>\n",
       "    </tr>\n",
       "    <tr>\n",
       "      <th>166</th>\n",
       "      <td>Zambia</td>\n",
       "      <td>83.1</td>\n",
       "      <td>37.0</td>\n",
       "      <td>0.253574</td>\n",
       "      <td>30.9</td>\n",
       "      <td>3280</td>\n",
       "      <td>0.168284</td>\n",
       "      <td>52.0</td>\n",
       "      <td>5.40</td>\n",
       "      <td>1460</td>\n",
       "    </tr>\n",
       "  </tbody>\n",
       "</table>\n",
       "<p>167 rows × 10 columns</p>\n",
       "</div>"
      ],
      "text/plain": [
       "                  Negara  Kematian_anak  Ekspor  Kesehatan  Impor  Pendapatan  \\\n",
       "0            Afghanistan           90.2    10.0   0.358608   44.9        1610   \n",
       "1                Albania           16.6    28.0   0.294593   48.6        9930   \n",
       "2                Algeria           27.3    38.4   0.146675   31.4       12900   \n",
       "3                 Angola          119.0    62.3   0.064636   42.9        5900   \n",
       "4    Antigua and Barbuda           10.3    45.5   0.262275   58.9       19100   \n",
       "..                   ...            ...     ...        ...    ...         ...   \n",
       "162              Vanuatu           29.2    46.6   0.213797   52.7        2950   \n",
       "163            Venezuela           17.1    28.5   0.192666   17.6       16500   \n",
       "164              Vietnam           23.3    72.0   0.312617   80.2        4490   \n",
       "165                Yemen           56.3    30.0   0.209447   34.4        4480   \n",
       "166               Zambia           83.1    37.0   0.253574   30.9        3280   \n",
       "\n",
       "      Inflasi  Harapan_hidup  Jumlah_fertiliti  GDPperkapita  \n",
       "0    0.126144           56.2              5.82           553  \n",
       "1    0.080399           76.3              1.65          4090  \n",
       "2    0.187691           76.5              2.89          4460  \n",
       "3    0.245911           60.1              6.16          3530  \n",
       "4    0.052213           76.8              2.13         12200  \n",
       "..        ...            ...               ...           ...  \n",
       "162  0.063118           63.0              3.50          2970  \n",
       "163  0.463081           75.4              2.47         13500  \n",
       "164  0.150725           73.1              1.95          1310  \n",
       "165  0.257000           67.5              4.67          1310  \n",
       "166  0.168284           52.0              5.40          1460  \n",
       "\n",
       "[167 rows x 10 columns]"
      ]
     },
     "execution_count": 53,
     "metadata": {},
     "output_type": "execute_result"
    }
   ],
   "source": [
    "cols_to_norm = ['Kesehatan','Inflasi']\n",
    "df_min_max[cols_to_norm] = MinMaxScaler().fit_transform(df_min_max[cols_to_norm])\n",
    "df_min_max"
   ]
  },
  {
   "cell_type": "code",
   "execution_count": 54,
   "id": "1b900012",
   "metadata": {},
   "outputs": [
    {
     "data": {
      "image/png": "[encoded data removed]",
      "text/plain": [
       "<Figure size 720x720 with 20 Axes>"
      ]
     },
     "metadata": {
      "needs_background": "light"
     },
     "output_type": "display_data"
    }
   ],
   "source": [
    "#2.2 EDA Part 1\n",
    "\n",
    "sns.pairplot(\n",
    "    df,\n",
    "    x_vars=[\"Kematian_anak\", \"Kesehatan\",\"Harapan_hidup\", \"Jumlah_fertiliti\"],\n",
    "    y_vars=[\"Kematian_anak\", \"Kesehatan\",\"Harapan_hidup\", \"Jumlah_fertiliti\"],\n",
    ")\n",
    "plt.savefig('EDApart1tit1.png')  \n",
    "plt.show() \n",
    "plt.close()"
   ]
  },
  {
   "cell_type": "code",
   "execution_count": 55,
   "id": "82557d0c",
   "metadata": {},
   "outputs": [
    {
     "data": {
      "image/png": "[encoded data removed]",
      "text/plain": [
       "<Figure size 900x900 with 30 Axes>"
      ]
     },
     "metadata": {
      "needs_background": "light"
     },
     "output_type": "display_data"
    }
   ],
   "source": [
    "#2.2 EDA Part 1\n",
    "\n",
    "sns.pairplot(\n",
    "    df,\n",
    "    x_vars=[\"Ekspor\",\"Impor\", \"Pendapatan\", \"Inflasi\",\"GDPperkapita\"],\n",
    "    y_vars=[\"Ekspor\",\"Impor\", \"Pendapatan\", \"Inflasi\",\"GDPperkapita\"],\n",
    ")\n",
    "plt.savefig('EDApart1ti2.png')  \n",
    "plt.show() \n",
    "plt.close()"
   ]
  },
  {
   "cell_type": "code",
   "execution_count": 56,
   "id": "1abea171",
   "metadata": {},
   "outputs": [
    {
     "data": {
      "text/plain": [
       "Negara              category\n",
       "Kematian_anak        float64\n",
       "Ekspor               float64\n",
       "Kesehatan            float64\n",
       "Impor                float64\n",
       "Pendapatan             int64\n",
       "Inflasi              float64\n",
       "Harapan_hidup        float64\n",
       "Jumlah_fertiliti     float64\n",
       "GDPperkapita           int64\n",
       "dtype: object"
      ]
     },
     "execution_count": 56,
     "metadata": {},
     "output_type": "execute_result"
    }
   ],
   "source": [
    "#2.3 Feature Selection\n",
    "df[\"Negara\"] = df[\"Negara\"].astype('category')\n",
    "df.dtypes"
   ]
  },
  {
   "cell_type": "code",
   "execution_count": 57,
   "id": "48700094",
   "metadata": {},
   "outputs": [
    {
     "data": {
      "text/html": [
       "<div>\n",
       "<style scoped>\n",
       "    .dataframe tbody tr th:only-of-type {\n",
       "        vertical-align: middle;\n",
       "    }\n",
       "\n",
       "    .dataframe tbody tr th {\n",
       "        vertical-align: top;\n",
       "    }\n",
       "\n",
       "    .dataframe thead th {\n",
       "        text-align: right;\n",
       "    }\n",
       "</style>\n",
       "<table border=\"1\" class=\"dataframe\">\n",
       "  <thead>\n",
       "    <tr style=\"text-align: right;\">\n",
       "      <th></th>\n",
       "      <th>Negara</th>\n",
       "      <th>Kematian_anak</th>\n",
       "      <th>Ekspor</th>\n",
       "      <th>Kesehatan</th>\n",
       "      <th>Impor</th>\n",
       "      <th>Pendapatan</th>\n",
       "      <th>Inflasi</th>\n",
       "      <th>Harapan_hidup</th>\n",
       "      <th>Jumlah_fertiliti</th>\n",
       "      <th>GDPperkapita</th>\n",
       "    </tr>\n",
       "  </thead>\n",
       "  <tbody>\n",
       "    <tr>\n",
       "      <th>0</th>\n",
       "      <td>0</td>\n",
       "      <td>90.2</td>\n",
       "      <td>10.0</td>\n",
       "      <td>7.58</td>\n",
       "      <td>44.9</td>\n",
       "      <td>1610</td>\n",
       "      <td>9.44</td>\n",
       "      <td>56.2</td>\n",
       "      <td>5.82</td>\n",
       "      <td>553</td>\n",
       "    </tr>\n",
       "    <tr>\n",
       "      <th>1</th>\n",
       "      <td>1</td>\n",
       "      <td>16.6</td>\n",
       "      <td>28.0</td>\n",
       "      <td>6.55</td>\n",
       "      <td>48.6</td>\n",
       "      <td>9930</td>\n",
       "      <td>4.49</td>\n",
       "      <td>76.3</td>\n",
       "      <td>1.65</td>\n",
       "      <td>4090</td>\n",
       "    </tr>\n",
       "    <tr>\n",
       "      <th>2</th>\n",
       "      <td>2</td>\n",
       "      <td>27.3</td>\n",
       "      <td>38.4</td>\n",
       "      <td>4.17</td>\n",
       "      <td>31.4</td>\n",
       "      <td>12900</td>\n",
       "      <td>16.10</td>\n",
       "      <td>76.5</td>\n",
       "      <td>2.89</td>\n",
       "      <td>4460</td>\n",
       "    </tr>\n",
       "    <tr>\n",
       "      <th>3</th>\n",
       "      <td>3</td>\n",
       "      <td>119.0</td>\n",
       "      <td>62.3</td>\n",
       "      <td>2.85</td>\n",
       "      <td>42.9</td>\n",
       "      <td>5900</td>\n",
       "      <td>22.40</td>\n",
       "      <td>60.1</td>\n",
       "      <td>6.16</td>\n",
       "      <td>3530</td>\n",
       "    </tr>\n",
       "    <tr>\n",
       "      <th>4</th>\n",
       "      <td>4</td>\n",
       "      <td>10.3</td>\n",
       "      <td>45.5</td>\n",
       "      <td>6.03</td>\n",
       "      <td>58.9</td>\n",
       "      <td>19100</td>\n",
       "      <td>1.44</td>\n",
       "      <td>76.8</td>\n",
       "      <td>2.13</td>\n",
       "      <td>12200</td>\n",
       "    </tr>\n",
       "  </tbody>\n",
       "</table>\n",
       "</div>"
      ],
      "text/plain": [
       "   Negara  Kematian_anak  Ekspor  Kesehatan  Impor  Pendapatan  Inflasi  \\\n",
       "0       0           90.2    10.0       7.58   44.9        1610     9.44   \n",
       "1       1           16.6    28.0       6.55   48.6        9930     4.49   \n",
       "2       2           27.3    38.4       4.17   31.4       12900    16.10   \n",
       "3       3          119.0    62.3       2.85   42.9        5900    22.40   \n",
       "4       4           10.3    45.5       6.03   58.9       19100     1.44   \n",
       "\n",
       "   Harapan_hidup  Jumlah_fertiliti  GDPperkapita  \n",
       "0           56.2              5.82           553  \n",
       "1           76.3              1.65          4090  \n",
       "2           76.5              2.89          4460  \n",
       "3           60.1              6.16          3530  \n",
       "4           76.8              2.13         12200  "
      ]
     },
     "execution_count": 57,
     "metadata": {},
     "output_type": "execute_result"
    }
   ],
   "source": [
    "df[\"Negara\"] = df[\"Negara\"].cat.codes\n",
    "\n",
    "df.head()"
   ]
  },
  {
   "cell_type": "code",
   "execution_count": 58,
   "id": "8b9ea90d",
   "metadata": {},
   "outputs": [
    {
     "data": {
      "text/plain": [
       "Negara                int16\n",
       "Kematian_anak       float64\n",
       "Ekspor              float64\n",
       "Kesehatan           float64\n",
       "Impor               float64\n",
       "Pendapatan            int64\n",
       "Inflasi             float64\n",
       "Harapan_hidup       float64\n",
       "Jumlah_fertiliti    float64\n",
       "GDPperkapita          int64\n",
       "dtype: object"
      ]
     },
     "execution_count": 58,
     "metadata": {},
     "output_type": "execute_result"
    }
   ],
   "source": [
    "df.dtypes"
   ]
  },
  {
   "cell_type": "code",
   "execution_count": 59,
   "id": "eaabef36",
   "metadata": {},
   "outputs": [
    {
     "data": {
      "text/plain": [
       "Negara              category\n",
       "Kematian_anak        float64\n",
       "Ekspor               float64\n",
       "Kesehatan            float64\n",
       "Impor                float64\n",
       "Pendapatan             int64\n",
       "Inflasi              float64\n",
       "Harapan_hidup        float64\n",
       "Jumlah_fertiliti     float64\n",
       "GDPperkapita           int64\n",
       "dtype: object"
      ]
     },
     "execution_count": 59,
     "metadata": {},
     "output_type": "execute_result"
    }
   ],
   "source": [
    "df[\"Negara\"] = df[\"Negara\"].astype('category')\n",
    "df.dtypes"
   ]
  },
  {
   "cell_type": "code",
   "execution_count": 60,
   "id": "27769ccc",
   "metadata": {},
   "outputs": [
    {
     "data": {
      "text/html": [
       "<div>\n",
       "<style scoped>\n",
       "    .dataframe tbody tr th:only-of-type {\n",
       "        vertical-align: middle;\n",
       "    }\n",
       "\n",
       "    .dataframe tbody tr th {\n",
       "        vertical-align: top;\n",
       "    }\n",
       "\n",
       "    .dataframe thead th {\n",
       "        text-align: right;\n",
       "    }\n",
       "</style>\n",
       "<table border=\"1\" class=\"dataframe\">\n",
       "  <thead>\n",
       "    <tr style=\"text-align: right;\">\n",
       "      <th></th>\n",
       "      <th>Negara</th>\n",
       "      <th>Kematian_anak</th>\n",
       "      <th>Ekspor</th>\n",
       "      <th>Kesehatan</th>\n",
       "      <th>Impor</th>\n",
       "      <th>Pendapatan</th>\n",
       "      <th>Inflasi</th>\n",
       "      <th>Harapan_hidup</th>\n",
       "      <th>Jumlah_fertiliti</th>\n",
       "      <th>GDPperkapita</th>\n",
       "    </tr>\n",
       "  </thead>\n",
       "  <tbody>\n",
       "    <tr>\n",
       "      <th>0</th>\n",
       "      <td>0</td>\n",
       "      <td>90.2</td>\n",
       "      <td>10.0</td>\n",
       "      <td>7.58</td>\n",
       "      <td>44.9</td>\n",
       "      <td>1610</td>\n",
       "      <td>9.44</td>\n",
       "      <td>56.2</td>\n",
       "      <td>5.82</td>\n",
       "      <td>553</td>\n",
       "    </tr>\n",
       "    <tr>\n",
       "      <th>1</th>\n",
       "      <td>1</td>\n",
       "      <td>16.6</td>\n",
       "      <td>28.0</td>\n",
       "      <td>6.55</td>\n",
       "      <td>48.6</td>\n",
       "      <td>9930</td>\n",
       "      <td>4.49</td>\n",
       "      <td>76.3</td>\n",
       "      <td>1.65</td>\n",
       "      <td>4090</td>\n",
       "    </tr>\n",
       "    <tr>\n",
       "      <th>2</th>\n",
       "      <td>2</td>\n",
       "      <td>27.3</td>\n",
       "      <td>38.4</td>\n",
       "      <td>4.17</td>\n",
       "      <td>31.4</td>\n",
       "      <td>12900</td>\n",
       "      <td>16.10</td>\n",
       "      <td>76.5</td>\n",
       "      <td>2.89</td>\n",
       "      <td>4460</td>\n",
       "    </tr>\n",
       "    <tr>\n",
       "      <th>3</th>\n",
       "      <td>3</td>\n",
       "      <td>119.0</td>\n",
       "      <td>62.3</td>\n",
       "      <td>2.85</td>\n",
       "      <td>42.9</td>\n",
       "      <td>5900</td>\n",
       "      <td>22.40</td>\n",
       "      <td>60.1</td>\n",
       "      <td>6.16</td>\n",
       "      <td>3530</td>\n",
       "    </tr>\n",
       "    <tr>\n",
       "      <th>4</th>\n",
       "      <td>4</td>\n",
       "      <td>10.3</td>\n",
       "      <td>45.5</td>\n",
       "      <td>6.03</td>\n",
       "      <td>58.9</td>\n",
       "      <td>19100</td>\n",
       "      <td>1.44</td>\n",
       "      <td>76.8</td>\n",
       "      <td>2.13</td>\n",
       "      <td>12200</td>\n",
       "    </tr>\n",
       "  </tbody>\n",
       "</table>\n",
       "</div>"
      ],
      "text/plain": [
       "   Negara  Kematian_anak  Ekspor  Kesehatan  Impor  Pendapatan  Inflasi  \\\n",
       "0       0           90.2    10.0       7.58   44.9        1610     9.44   \n",
       "1       1           16.6    28.0       6.55   48.6        9930     4.49   \n",
       "2       2           27.3    38.4       4.17   31.4       12900    16.10   \n",
       "3       3          119.0    62.3       2.85   42.9        5900    22.40   \n",
       "4       4           10.3    45.5       6.03   58.9       19100     1.44   \n",
       "\n",
       "   Harapan_hidup  Jumlah_fertiliti  GDPperkapita  \n",
       "0           56.2              5.82           553  \n",
       "1           76.3              1.65          4090  \n",
       "2           76.5              2.89          4460  \n",
       "3           60.1              6.16          3530  \n",
       "4           76.8              2.13         12200  "
      ]
     },
     "execution_count": 60,
     "metadata": {},
     "output_type": "execute_result"
    }
   ],
   "source": [
    "df[\"Negara\"] = df[\"Negara\"].cat.codes\n",
    "df.head()"
   ]
  },
  {
   "cell_type": "code",
   "execution_count": 61,
   "id": "1de31339",
   "metadata": {},
   "outputs": [
    {
     "name": "stderr",
     "output_type": "stream",
     "text": [
      "C:\\ProgramData\\Anaconda3\\lib\\site-packages\\sklearn\\cluster\\_kmeans.py:1036: UserWarning: KMeans is known to have a memory leak on Windows with MKL, when there are less chunks than available threads. You can avoid it by setting the environment variable OMP_NUM_THREADS=1.\n",
      "  warnings.warn(\n"
     ]
    }
   ],
   "source": [
    "from sklearn.cluster import KMeans\n",
    "\n",
    "distortions = []\n",
    "K = range(1,10)\n",
    "for k in K:\n",
    "    kmeanModel = KMeans(n_clusters=k)\n",
    "    kmeanModel.fit(df)\n",
    "    distortions.append(kmeanModel.inertia_)"
   ]
  },
  {
   "cell_type": "code",
   "execution_count": 62,
   "id": "a02e5267",
   "metadata": {},
   "outputs": [
    {
     "data": {
      "image/png": "[encoded data removed]",
      "text/plain": [
       "<Figure size 1152x576 with 1 Axes>"
      ]
     },
     "metadata": {
      "needs_background": "light"
     },
     "output_type": "display_data"
    }
   ],
   "source": [
    "plt.figure(figsize=(16,8))\n",
    "plt.plot(K, distortions, 'bx-')\n",
    "plt.xlabel('k')\n",
    "plt.ylabel('')\n",
    "plt.title('The Elbow Method showing the optimal k')\n",
    "\n",
    "plt.savefig('elbow.png')  \n",
    "plt.show() \n",
    "plt.close()"
   ]
  },
  {
   "cell_type": "code",
   "execution_count": 63,
   "id": "2208fe37",
   "metadata": {},
   "outputs": [
    {
     "data": {
      "text/plain": [
       "Negara                int16\n",
       "Kematian_anak       float64\n",
       "Ekspor              float64\n",
       "Kesehatan           float64\n",
       "Impor               float64\n",
       "Pendapatan            int64\n",
       "Inflasi             float64\n",
       "Harapan_hidup       float64\n",
       "Jumlah_fertiliti    float64\n",
       "GDPperkapita          int64\n",
       "dtype: object"
      ]
     },
     "execution_count": 63,
     "metadata": {},
     "output_type": "execute_result"
    }
   ],
   "source": [
    "df.dtypes"
   ]
  },
  {
   "cell_type": "code",
   "execution_count": 64,
   "id": "346e637d",
   "metadata": {},
   "outputs": [],
   "source": [
    "from sklearn.cluster import SpectralClustering\n"
   ]
  },
  {
   "cell_type": "code",
   "execution_count": 65,
   "id": "05c713ba",
   "metadata": {},
   "outputs": [],
   "source": [
    "X = df[['Negara','Kematian_anak','Ekspor','Kesehatan','Impor','Pendapatan','Inflasi','Harapan_hidup','Jumlah_fertiliti','GDPperkapita']].copy()"
   ]
  },
  {
   "cell_type": "code",
   "execution_count": 66,
   "id": "f4a67525",
   "metadata": {},
   "outputs": [],
   "source": [
    "spectral_cluster_model= SpectralClustering(\n",
    "    n_clusters=3, \n",
    "    random_state=25, \n",
    "    n_neighbors=8, \n",
    "    affinity='nearest_neighbors'\n",
    ")"
   ]
  },
  {
   "cell_type": "code",
   "execution_count": 67,
   "id": "2a97f5b3",
   "metadata": {},
   "outputs": [],
   "source": [
    "X['cluster'] = spectral_cluster_model.fit_predict(X)\n"
   ]
  },
  {
   "cell_type": "code",
   "execution_count": 68,
   "id": "d11529d0",
   "metadata": {
    "scrolled": true
   },
   "outputs": [
    {
     "data": {
      "text/plain": [
       "[Text(0.5, 1.0, 'Spectral Clustering')]"
      ]
     },
     "execution_count": 68,
     "metadata": {},
     "output_type": "execute_result"
    },
    {
     "data": {
      "image/png": "[encoded data removed]",
      "text/plain": [
       "<Figure size 432x288 with 1 Axes>"
      ]
     },
     "metadata": {
      "needs_background": "light"
     },
     "output_type": "display_data"
    }
   ],
   "source": [
    "fig, ax = plt.subplots()\n",
    "sns.scatterplot(x='Kesehatan', y='Inflasi', data=X, hue='cluster', ax=ax)\n",
    "ax.set(title='Spectral Clustering')"
   ]
  },
  {
   "cell_type": "code",
   "execution_count": 69,
   "id": "53dcb2a7",
   "metadata": {},
   "outputs": [
    {
     "data": {
      "image/png": "[encoded data removed]",
      "text/plain": [
       "<Figure size 432x288 with 1 Axes>"
      ]
     },
     "metadata": {
      "needs_background": "light"
     },
     "output_type": "display_data"
    }
   ],
   "source": [
    "#2.5 EDA Part 2\n",
    "#univariate analyses\n",
    "# extract data tentang Kesehatan\n",
    "data = df['Kesehatan'].value_counts()\n",
    "category = data.index\n",
    "frequency = data.values\n",
    "\n",
    "# plot data\n",
    "fig, ax = plt.subplots()\n",
    "ax.bar(category, frequency)\n",
    "plt.show()"
   ]
  },
  {
   "cell_type": "code",
   "execution_count": 70,
   "id": "5dc31b62",
   "metadata": {},
   "outputs": [
    {
     "data": {
      "image/png": "[encoded data removed]",
      "text/plain": [
       "<Figure size 432x288 with 1 Axes>"
      ]
     },
     "metadata": {
      "needs_background": "light"
     },
     "output_type": "display_data"
    }
   ],
   "source": [
    "#univariate analyses\n",
    "# extract data tentang Kesehatan\n",
    "data = df['Inflasi'].value_counts()\n",
    "category = data.index\n",
    "frequency = data.values\n",
    "\n",
    "# plot data\n",
    "fig, ax = plt.subplots()\n",
    "ax.bar(category, frequency)\n",
    "plt.show()"
   ]
  },
  {
   "cell_type": "code",
   "execution_count": 71,
   "id": "10e8a263",
   "metadata": {},
   "outputs": [
    {
     "data": {
      "image/png": "[encoded data removed]",
      "text/plain": [
       "<Figure size 432x288 with 1 Axes>"
      ]
     },
     "metadata": {
      "needs_background": "light"
     },
     "output_type": "display_data"
    }
   ],
   "source": [
    "#bivariate analyses\n",
    "fig, ax = plt.subplots()\n",
    "\n",
    "# pembuatan plot\n",
    "ax.scatter(df['Kesehatan'], df['Inflasi'], c='#57C5B6')\n",
    "\n",
    "# axis labeling\n",
    "ax.set_xlabel('Kesehatan')\n",
    "ax.set_ylabel('Inflasi')\n",
    "ax.set_title('Relasi antar Kesehatan dan Inflasi')\n",
    "\n",
    "plt.show()"
   ]
  },
  {
   "cell_type": "markdown",
   "id": "a089ea36",
   "metadata": {},
   "source": [
    "<H1> CLUSTERING DATA </H1>"
   ]
  },
  {
   "cell_type": "code",
   "execution_count": 72,
   "id": "b421a83a",
   "metadata": {},
   "outputs": [
    {
     "data": {
      "text/plain": [
       "Negara              category\n",
       "Kematian_anak        float64\n",
       "Ekspor               float64\n",
       "Kesehatan            float64\n",
       "Impor                float64\n",
       "Pendapatan             int64\n",
       "Inflasi              float64\n",
       "Harapan_hidup        float64\n",
       "Jumlah_fertiliti     float64\n",
       "GDPperkapita           int64\n",
       "dtype: object"
      ]
     },
     "execution_count": 72,
     "metadata": {},
     "output_type": "execute_result"
    }
   ],
   "source": [
    "df[\"Negara\"] = df[\"Negara\"].astype('category')\n",
    "df.dtypes"
   ]
  },
  {
   "cell_type": "code",
   "execution_count": 73,
   "id": "08a48ae6",
   "metadata": {},
   "outputs": [
    {
     "data": {
      "text/html": [
       "<div>\n",
       "<style scoped>\n",
       "    .dataframe tbody tr th:only-of-type {\n",
       "        vertical-align: middle;\n",
       "    }\n",
       "\n",
       "    .dataframe tbody tr th {\n",
       "        vertical-align: top;\n",
       "    }\n",
       "\n",
       "    .dataframe thead th {\n",
       "        text-align: right;\n",
       "    }\n",
       "</style>\n",
       "<table border=\"1\" class=\"dataframe\">\n",
       "  <thead>\n",
       "    <tr style=\"text-align: right;\">\n",
       "      <th></th>\n",
       "      <th>Negara</th>\n",
       "      <th>Kematian_anak</th>\n",
       "      <th>Ekspor</th>\n",
       "      <th>Kesehatan</th>\n",
       "      <th>Impor</th>\n",
       "      <th>Pendapatan</th>\n",
       "      <th>Inflasi</th>\n",
       "      <th>Harapan_hidup</th>\n",
       "      <th>Jumlah_fertiliti</th>\n",
       "      <th>GDPperkapita</th>\n",
       "    </tr>\n",
       "  </thead>\n",
       "  <tbody>\n",
       "    <tr>\n",
       "      <th>0</th>\n",
       "      <td>0</td>\n",
       "      <td>90.2</td>\n",
       "      <td>10.0</td>\n",
       "      <td>7.58</td>\n",
       "      <td>44.9</td>\n",
       "      <td>1610</td>\n",
       "      <td>9.44</td>\n",
       "      <td>56.2</td>\n",
       "      <td>5.82</td>\n",
       "      <td>553</td>\n",
       "    </tr>\n",
       "    <tr>\n",
       "      <th>1</th>\n",
       "      <td>1</td>\n",
       "      <td>16.6</td>\n",
       "      <td>28.0</td>\n",
       "      <td>6.55</td>\n",
       "      <td>48.6</td>\n",
       "      <td>9930</td>\n",
       "      <td>4.49</td>\n",
       "      <td>76.3</td>\n",
       "      <td>1.65</td>\n",
       "      <td>4090</td>\n",
       "    </tr>\n",
       "    <tr>\n",
       "      <th>2</th>\n",
       "      <td>2</td>\n",
       "      <td>27.3</td>\n",
       "      <td>38.4</td>\n",
       "      <td>4.17</td>\n",
       "      <td>31.4</td>\n",
       "      <td>12900</td>\n",
       "      <td>16.10</td>\n",
       "      <td>76.5</td>\n",
       "      <td>2.89</td>\n",
       "      <td>4460</td>\n",
       "    </tr>\n",
       "    <tr>\n",
       "      <th>3</th>\n",
       "      <td>3</td>\n",
       "      <td>119.0</td>\n",
       "      <td>62.3</td>\n",
       "      <td>2.85</td>\n",
       "      <td>42.9</td>\n",
       "      <td>5900</td>\n",
       "      <td>22.40</td>\n",
       "      <td>60.1</td>\n",
       "      <td>6.16</td>\n",
       "      <td>3530</td>\n",
       "    </tr>\n",
       "    <tr>\n",
       "      <th>4</th>\n",
       "      <td>4</td>\n",
       "      <td>10.3</td>\n",
       "      <td>45.5</td>\n",
       "      <td>6.03</td>\n",
       "      <td>58.9</td>\n",
       "      <td>19100</td>\n",
       "      <td>1.44</td>\n",
       "      <td>76.8</td>\n",
       "      <td>2.13</td>\n",
       "      <td>12200</td>\n",
       "    </tr>\n",
       "  </tbody>\n",
       "</table>\n",
       "</div>"
      ],
      "text/plain": [
       "   Negara  Kematian_anak  Ekspor  Kesehatan  Impor  Pendapatan  Inflasi  \\\n",
       "0       0           90.2    10.0       7.58   44.9        1610     9.44   \n",
       "1       1           16.6    28.0       6.55   48.6        9930     4.49   \n",
       "2       2           27.3    38.4       4.17   31.4       12900    16.10   \n",
       "3       3          119.0    62.3       2.85   42.9        5900    22.40   \n",
       "4       4           10.3    45.5       6.03   58.9       19100     1.44   \n",
       "\n",
       "   Harapan_hidup  Jumlah_fertiliti  GDPperkapita  \n",
       "0           56.2              5.82           553  \n",
       "1           76.3              1.65          4090  \n",
       "2           76.5              2.89          4460  \n",
       "3           60.1              6.16          3530  \n",
       "4           76.8              2.13         12200  "
      ]
     },
     "execution_count": 73,
     "metadata": {},
     "output_type": "execute_result"
    }
   ],
   "source": [
    "df[\"Negara\"] = df[\"Negara\"].cat.codes\n",
    "df.head()"
   ]
  },
  {
   "cell_type": "code",
   "execution_count": 74,
   "id": "3ef369ae",
   "metadata": {},
   "outputs": [
    {
     "name": "stderr",
     "output_type": "stream",
     "text": [
      "C:\\ProgramData\\Anaconda3\\lib\\site-packages\\sklearn\\cluster\\_kmeans.py:1036: UserWarning: KMeans is known to have a memory leak on Windows with MKL, when there are less chunks than available threads. You can avoid it by setting the environment variable OMP_NUM_THREADS=1.\n",
      "  warnings.warn(\n"
     ]
    }
   ],
   "source": [
    "from sklearn.cluster import KMeans\n",
    "\n",
    "clustering = []\n",
    "K = range(1,10)\n",
    "for k in K:\n",
    "    kmeanModel = KMeans(n_clusters=k)\n",
    "    kmeanModel.fit(df)\n",
    "    clustering.append(kmeanModel.inertia_)"
   ]
  },
  {
   "cell_type": "code",
   "execution_count": 75,
   "id": "de43feab",
   "metadata": {},
   "outputs": [
    {
     "data": {
      "image/png": "[encoded data removed]",
      "text/plain": [
       "<Figure size 1152x576 with 1 Axes>"
      ]
     },
     "metadata": {
      "needs_background": "light"
     },
     "output_type": "display_data"
    }
   ],
   "source": [
    "plt.figure(figsize=(16,8))\n",
    "plt.plot(K, clustering, 'bx-')\n",
    "plt.xlabel('k')\n",
    "plt.ylabel('')\n",
    "plt.title('The Elbow Method showing the optimal k')\n",
    "plt.show()"
   ]
  },
  {
   "cell_type": "code",
   "execution_count": 76,
   "id": "c2b9758b",
   "metadata": {},
   "outputs": [
    {
     "name": "stdout",
     "output_type": "stream",
     "text": [
      "Init: initializing centroids\n",
      "Init: initializing clusters\n",
      "Starting iterations...\n",
      "Run 1, iteration: 1/100, moves: 1, cost: 1608.0\n",
      "Init: initializing centroids\n",
      "Init: initializing clusters\n",
      "Starting iterations...\n",
      "Run 2, iteration: 1/100, moves: 3, cost: 1651.0\n",
      "Init: initializing centroids\n",
      "Init: initializing clusters\n",
      "Starting iterations...\n",
      "Run 3, iteration: 1/100, moves: 0, cost: 1653.0\n",
      "Init: initializing centroids\n",
      "Init: initializing clusters\n",
      "Starting iterations...\n",
      "Run 4, iteration: 1/100, moves: 3, cost: 1703.0\n",
      "Init: initializing centroids\n",
      "Init: initializing clusters\n",
      "Starting iterations...\n",
      "Run 5, iteration: 1/100, moves: 1, cost: 1650.0\n",
      "Best run was number 1\n"
     ]
    },
    {
     "data": {
      "text/html": [
       "<div>\n",
       "<style scoped>\n",
       "    .dataframe tbody tr th:only-of-type {\n",
       "        vertical-align: middle;\n",
       "    }\n",
       "\n",
       "    .dataframe tbody tr th {\n",
       "        vertical-align: top;\n",
       "    }\n",
       "\n",
       "    .dataframe thead th {\n",
       "        text-align: right;\n",
       "    }\n",
       "</style>\n",
       "<table border=\"1\" class=\"dataframe\">\n",
       "  <thead>\n",
       "    <tr style=\"text-align: right;\">\n",
       "      <th></th>\n",
       "      <th>Cluster</th>\n",
       "      <th>Negara</th>\n",
       "      <th>Kematian_anak</th>\n",
       "      <th>Ekspor</th>\n",
       "      <th>Kesehatan</th>\n",
       "      <th>Impor</th>\n",
       "      <th>Pendapatan</th>\n",
       "      <th>Inflasi</th>\n",
       "      <th>Harapan_hidup</th>\n",
       "      <th>Jumlah_fertiliti</th>\n",
       "      <th>GDPperkapita</th>\n",
       "      <th>cluster</th>\n",
       "    </tr>\n",
       "  </thead>\n",
       "  <tbody>\n",
       "    <tr>\n",
       "      <th>0</th>\n",
       "      <td>2</td>\n",
       "      <td>0</td>\n",
       "      <td>90.2</td>\n",
       "      <td>10.0</td>\n",
       "      <td>7.58</td>\n",
       "      <td>44.9</td>\n",
       "      <td>1610</td>\n",
       "      <td>9.44</td>\n",
       "      <td>56.2</td>\n",
       "      <td>5.82</td>\n",
       "      <td>553</td>\n",
       "      <td>0</td>\n",
       "    </tr>\n",
       "    <tr>\n",
       "      <th>1</th>\n",
       "      <td>0</td>\n",
       "      <td>1</td>\n",
       "      <td>16.6</td>\n",
       "      <td>28.0</td>\n",
       "      <td>6.55</td>\n",
       "      <td>48.6</td>\n",
       "      <td>9930</td>\n",
       "      <td>4.49</td>\n",
       "      <td>76.3</td>\n",
       "      <td>1.65</td>\n",
       "      <td>4090</td>\n",
       "      <td>2</td>\n",
       "    </tr>\n",
       "    <tr>\n",
       "      <th>2</th>\n",
       "      <td>0</td>\n",
       "      <td>2</td>\n",
       "      <td>27.3</td>\n",
       "      <td>38.4</td>\n",
       "      <td>4.17</td>\n",
       "      <td>31.4</td>\n",
       "      <td>12900</td>\n",
       "      <td>16.10</td>\n",
       "      <td>76.5</td>\n",
       "      <td>2.89</td>\n",
       "      <td>4460</td>\n",
       "      <td>2</td>\n",
       "    </tr>\n",
       "    <tr>\n",
       "      <th>3</th>\n",
       "      <td>0</td>\n",
       "      <td>3</td>\n",
       "      <td>119.0</td>\n",
       "      <td>62.3</td>\n",
       "      <td>2.85</td>\n",
       "      <td>42.9</td>\n",
       "      <td>5900</td>\n",
       "      <td>22.40</td>\n",
       "      <td>60.1</td>\n",
       "      <td>6.16</td>\n",
       "      <td>3530</td>\n",
       "      <td>2</td>\n",
       "    </tr>\n",
       "    <tr>\n",
       "      <th>4</th>\n",
       "      <td>0</td>\n",
       "      <td>4</td>\n",
       "      <td>10.3</td>\n",
       "      <td>45.5</td>\n",
       "      <td>6.03</td>\n",
       "      <td>58.9</td>\n",
       "      <td>19100</td>\n",
       "      <td>1.44</td>\n",
       "      <td>76.8</td>\n",
       "      <td>2.13</td>\n",
       "      <td>12200</td>\n",
       "      <td>2</td>\n",
       "    </tr>\n",
       "  </tbody>\n",
       "</table>\n",
       "</div>"
      ],
      "text/plain": [
       "   Cluster  Negara  Kematian_anak  Ekspor  Kesehatan  Impor  Pendapatan  \\\n",
       "0        2       0           90.2    10.0       7.58   44.9        1610   \n",
       "1        0       1           16.6    28.0       6.55   48.6        9930   \n",
       "2        0       2           27.3    38.4       4.17   31.4       12900   \n",
       "3        0       3          119.0    62.3       2.85   42.9        5900   \n",
       "4        0       4           10.3    45.5       6.03   58.9       19100   \n",
       "\n",
       "   Inflasi  Harapan_hidup  Jumlah_fertiliti  GDPperkapita  cluster  \n",
       "0     9.44           56.2              5.82           553        0  \n",
       "1     4.49           76.3              1.65          4090        2  \n",
       "2    16.10           76.5              2.89          4460        2  \n",
       "3    22.40           60.1              6.16          3530        2  \n",
       "4     1.44           76.8              2.13         12200        2  "
      ]
     },
     "execution_count": 76,
     "metadata": {},
     "output_type": "execute_result"
    }
   ],
   "source": [
    "from kmodes.kmodes import KModes\n",
    "\n",
    "# Building the model with 3 clusters\n",
    "kmode = KModes(n_clusters=3, init = \"random\", n_init = 5, verbose=1)\n",
    "clusters = kmode.fit_predict(X)\n",
    "clusters\n",
    "X.insert(0, \"Cluster\", clusters,  True)\n",
    "X.head()\n"
   ]
  },
  {
   "cell_type": "code",
   "execution_count": 77,
   "id": "33dac08b",
   "metadata": {},
   "outputs": [],
   "source": [
    "df1 = pd.DataFrame(X.loc[:, ['Negara', 'cluster', 'Kematian_anak', 'Ekspor', 'Kesehatan', 'Impor', 'Pendapatan','Inflasi','Harapan_hidup','Jumlah_fertiliti','GDPperkapita']])\n",
    "df2 = pd.DataFrame(df_min_max.loc[:, ['Negara']])\n",
    "df1['Negara'] = df2['Negara']"
   ]
  },
  {
   "cell_type": "code",
   "execution_count": 78,
   "id": "2d7d9690",
   "metadata": {},
   "outputs": [
    {
     "name": "stdout",
     "output_type": "stream",
     "text": [
      "                             Negara  cluster  Kematian_anak   Ekspor  \\\n",
      "0                       Afghanistan        0           90.2   10.000   \n",
      "1                           Albania        2           16.6   28.000   \n",
      "2                           Algeria        2           27.3   38.400   \n",
      "3                            Angola        2          119.0   62.300   \n",
      "4               Antigua and Barbuda        2           10.3   45.500   \n",
      "5                         Argentina        2           14.5   18.900   \n",
      "6                           Armenia        2           18.1   20.800   \n",
      "7                         Australia        1            4.8   19.800   \n",
      "8                           Austria        1            4.3   51.300   \n",
      "9                        Azerbaijan        2           39.2   54.300   \n",
      "10                          Bahamas        1           13.8   35.000   \n",
      "11                          Bahrain        1            8.6   69.500   \n",
      "12                       Bangladesh        0           49.4   16.000   \n",
      "13                         Barbados        2           14.2   39.500   \n",
      "14                          Belarus        2            5.5   51.400   \n",
      "15                          Belgium        1            4.5   76.400   \n",
      "16                           Belize        2           18.8   58.200   \n",
      "17                            Benin        0          111.0   23.800   \n",
      "18                           Bhutan        2           42.7   42.500   \n",
      "19                          Bolivia        2           46.6   41.200   \n",
      "20           Bosnia and Herzegovina        2            6.9   29.700   \n",
      "21                         Botswana        2           52.5   43.600   \n",
      "22                           Brazil        2           19.8   10.700   \n",
      "23                           Brunei        1           10.5   67.400   \n",
      "24                         Bulgaria        2           10.8   50.200   \n",
      "25                     Burkina Faso        0          116.0   19.200   \n",
      "26                          Burundi        0           93.6    8.920   \n",
      "27                         Cambodia        0           44.4   54.100   \n",
      "28                         Cameroon        0          108.0   22.200   \n",
      "29                           Canada        1            5.6   29.100   \n",
      "30                       Cape Verde        2           26.5   32.700   \n",
      "31         Central African Republic        0          149.0   11.800   \n",
      "32                             Chad        0          150.0   36.800   \n",
      "33                            Chile        2            8.7   37.700   \n",
      "34                            China        2           15.7   26.300   \n",
      "35                         Colombia        2           18.6   15.900   \n",
      "36                          Comoros        0           88.2   16.500   \n",
      "37                 Congo, Dem. Rep.        0          116.0   41.100   \n",
      "38                      Congo, Rep.        2           63.9   85.100   \n",
      "39                       Costa Rica        2           10.2   33.200   \n",
      "40                    Cote d'Ivoire        0          111.0   50.600   \n",
      "41                          Croatia        2            5.5   37.600   \n",
      "42                           Cyprus        1            3.6   50.200   \n",
      "43                   Czech Republic        1            3.4   66.000   \n",
      "44                          Denmark        1            4.1   50.500   \n",
      "45               Dominican Republic        2           34.4   22.700   \n",
      "46                          Ecuador        2           25.1   27.900   \n",
      "47                            Egypt        2           29.1   21.300   \n",
      "48                      El Salvador        2           19.2   26.900   \n",
      "49                Equatorial Guinea        1          111.0   85.800   \n",
      "50                          Eritrea        0           55.2    4.790   \n",
      "51                          Estonia        2            4.5   75.100   \n",
      "52                             Fiji        2           24.1   57.800   \n",
      "53                          Finland        1            3.0   38.700   \n",
      "54                           France        1            4.2   26.800   \n",
      "55                            Gabon        2           63.7   57.700   \n",
      "56                           Gambia        0           80.3   23.800   \n",
      "57                          Georgia        2           16.5   35.000   \n",
      "58                          Germany        1            4.2   42.300   \n",
      "59                            Ghana        0           74.7   29.500   \n",
      "60                           Greece        1            3.9   22.100   \n",
      "61                          Grenada        2           14.6   23.800   \n",
      "62                        Guatemala        2           35.4   25.800   \n",
      "63                           Guinea        0          109.0   30.300   \n",
      "64                    Guinea-Bissau        0          114.0   14.900   \n",
      "65                           Guyana        2           37.6   51.400   \n",
      "66                            Haiti        0          208.0   15.300   \n",
      "67                          Hungary        2            6.0   81.800   \n",
      "68                          Iceland        1            2.6   53.400   \n",
      "69                            India        0           58.8   22.600   \n",
      "70                        Indonesia        2           33.3   24.300   \n",
      "71                             Iran        2           19.3   24.400   \n",
      "72                             Iraq        2           36.9   39.400   \n",
      "73                          Ireland        1            4.2  103.000   \n",
      "74                           Israel        1            4.6   35.000   \n",
      "75                            Italy        1            4.0   25.200   \n",
      "76                          Jamaica        2           18.1   31.300   \n",
      "77                            Japan        1            3.2   15.000   \n",
      "78                           Jordan        2           21.1   48.300   \n",
      "79                       Kazakhstan        2           21.5   44.200   \n",
      "80                            Kenya        0           62.2   20.700   \n",
      "81                         Kiribati        0           62.7   13.300   \n",
      "82                           Kuwait        1           10.8   66.700   \n",
      "83                  Kyrgyz Republic        0           29.6   51.600   \n",
      "84                              Lao        0           78.9   35.400   \n",
      "85                           Latvia        2            7.8   53.700   \n",
      "86                          Lebanon        2           10.3   35.800   \n",
      "87                          Lesotho        0           99.7   39.400   \n",
      "88                          Liberia        0           89.3   19.100   \n",
      "89                            Libya        1           16.6   65.600   \n",
      "90                        Lithuania        2            6.1   65.300   \n",
      "91                       Luxembourg        1            2.8  175.000   \n",
      "92                   Macedonia, FYR        2           10.4   39.800   \n",
      "93                       Madagascar        0           62.2   25.000   \n",
      "94                           Malawi        0           90.5   22.800   \n",
      "95                         Malaysia        2            7.9   86.900   \n",
      "96                         Maldives        2           13.2   77.600   \n",
      "97                             Mali        0          137.0   22.800   \n",
      "98                            Malta        1            6.8  153.000   \n",
      "99                       Mauritania        0           97.4   50.700   \n",
      "100                       Mauritius        2           15.0   51.200   \n",
      "101           Micronesia, Fed. Sts.        0           40.0   23.500   \n",
      "102                         Moldova        0           17.2   39.200   \n",
      "103                        Mongolia        2           26.1   46.700   \n",
      "104                      Montenegro        2            6.8   37.000   \n",
      "105                         Morocco        2           33.5   32.200   \n",
      "106                      Mozambique        0          101.0   31.500   \n",
      "107                         Myanmar        0           64.4    0.109   \n",
      "108                         Namibia        2           56.0   47.800   \n",
      "109                           Nepal        0           47.0    9.580   \n",
      "110                     Netherlands        1            4.5   72.000   \n",
      "111                     New Zealand        1            6.2   30.300   \n",
      "112                           Niger        0          123.0   22.200   \n",
      "113                         Nigeria        2          130.0   25.300   \n",
      "114                          Norway        1            3.2   39.700   \n",
      "115                            Oman        1           11.7   65.700   \n",
      "116                        Pakistan        0           92.1   13.500   \n",
      "117                          Panama        2           19.7   70.000   \n",
      "118                        Paraguay        2           24.1   55.100   \n",
      "119                            Peru        2           20.3   27.800   \n",
      "120                     Philippines        2           31.9   34.800   \n",
      "121                          Poland        2            6.0   40.100   \n",
      "122                        Portugal        1            3.9   29.900   \n",
      "123                           Qatar        1            9.0   62.300   \n",
      "124                         Romania        2           11.5   32.600   \n",
      "125                          Russia        2           10.0   29.200   \n",
      "126                          Rwanda        0           63.6   12.000   \n",
      "127                           Samoa        2           18.9   29.200   \n",
      "128                    Saudi Arabia        1           15.7   49.600   \n",
      "129                         Senegal        0           66.8   24.900   \n",
      "130                          Serbia        2            7.6   32.900   \n",
      "131                      Seychelles        2           14.4   93.800   \n",
      "132                    Sierra Leone        0          160.0   16.800   \n",
      "133                       Singapore        1            2.8  200.000   \n",
      "134                 Slovak Republic        1            7.0   76.300   \n",
      "135                        Slovenia        1            3.2   64.300   \n",
      "136                 Solomon Islands        0           28.1   49.300   \n",
      "137                    South Africa        2           53.7   28.600   \n",
      "138                     South Korea        1            4.1   49.400   \n",
      "139                           Spain        1            3.8   25.500   \n",
      "140                       Sri Lanka        2           11.2   19.600   \n",
      "141  St. Vincent and the Grenadines        2           20.7   26.900   \n",
      "142                           Sudan        0           76.7   19.700   \n",
      "143                        Suriname        2           24.1   52.500   \n",
      "144                          Sweden        1            3.0   46.200   \n",
      "145                     Switzerland        1            4.5   64.000   \n",
      "146                      Tajikistan        0           52.4   14.900   \n",
      "147                        Tanzania        0           71.9   18.700   \n",
      "148                        Thailand        2           14.9   66.500   \n",
      "149                     Timor-Leste        0           62.6    2.200   \n",
      "150                            Togo        0           90.3   40.200   \n",
      "151                           Tonga        2           17.4   12.400   \n",
      "152                         Tunisia        2           17.4   50.500   \n",
      "153                          Turkey        2           19.1   20.400   \n",
      "154                    Turkmenistan        2           62.0   76.300   \n",
      "155                          Uganda        0           81.0   17.100   \n",
      "156                         Ukraine        2           11.7   47.100   \n",
      "157            United Arab Emirates        1            8.6   77.700   \n",
      "158                  United Kingdom        1            5.2   28.200   \n",
      "159                   United States        1            7.3   12.400   \n",
      "160                         Uruguay        2           10.6   26.300   \n",
      "161                      Uzbekistan        0           36.3   31.700   \n",
      "162                         Vanuatu        0           29.2   46.600   \n",
      "163                       Venezuela        2           17.1   28.500   \n",
      "164                         Vietnam        0           23.3   72.000   \n",
      "165                           Yemen        0           56.3   30.000   \n",
      "166                          Zambia        0           83.1   37.000   \n",
      "\n",
      "     Kesehatan     Impor  Pendapatan  Inflasi  Harapan_hidup  \\\n",
      "0         7.58   44.9000        1610    9.440           56.2   \n",
      "1         6.55   48.6000        9930    4.490           76.3   \n",
      "2         4.17   31.4000       12900   16.100           76.5   \n",
      "3         2.85   42.9000        5900   22.400           60.1   \n",
      "4         6.03   58.9000       19100    1.440           76.8   \n",
      "5         8.10   16.0000       18700   20.900           75.8   \n",
      "6         4.40   45.3000        6700    7.770           73.3   \n",
      "7         8.73   20.9000       41400    1.160           82.0   \n",
      "8        11.00   47.8000       43200    0.873           80.5   \n",
      "9         5.88   20.7000       16000   13.800           69.1   \n",
      "10        7.89   43.7000       22900   -0.393           73.8   \n",
      "11        4.97   50.9000       41100    7.440           76.0   \n",
      "12        3.52   21.8000        2440    7.140           70.4   \n",
      "13        7.97   48.7000       15300    0.321           76.7   \n",
      "14        5.61   64.5000       16200   15.100           70.4   \n",
      "15       10.70   74.7000       41100    1.880           80.0   \n",
      "16        5.20   57.5000        7880    1.140           71.4   \n",
      "17        4.10   37.2000        1820    0.885           61.8   \n",
      "18        5.20   70.7000        6420    5.990           72.1   \n",
      "19        4.84   34.3000        5410    8.780           71.6   \n",
      "20       11.10   51.3000        9720    1.400           76.8   \n",
      "21        8.30   51.3000       13300    8.920           57.1   \n",
      "22        9.01   11.8000       14500    8.410           74.2   \n",
      "23        2.84   28.0000       80600   16.700           77.1   \n",
      "24        6.87   53.0000       15300    1.110           73.9   \n",
      "25        6.74   29.6000        1430    6.810           57.9   \n",
      "26       11.60   39.2000         764   12.300           57.7   \n",
      "27        5.68   59.5000        2520    3.120           66.1   \n",
      "28        5.13   27.0000        2660    1.910           57.3   \n",
      "29       11.30   31.0000       40700    2.870           81.3   \n",
      "30        4.09   61.8000        5830    0.505           72.5   \n",
      "31        3.98   26.5000         888    2.010           47.5   \n",
      "32        4.53   43.5000        1930    6.390           56.5   \n",
      "33        7.96   31.3000       19400    8.960           79.1   \n",
      "34        5.07   22.6000        9530    6.940           74.6   \n",
      "35        7.59   17.8000       10900    3.860           76.4   \n",
      "36        4.51   51.7000        1410    3.870           65.9   \n",
      "37        7.91   49.6000         609   20.800           57.5   \n",
      "38        2.46   54.7000        5190   20.700           60.4   \n",
      "39       10.90   35.0000       13000    6.570           80.4   \n",
      "40        5.30   43.3000        2690    5.390           56.3   \n",
      "41        7.76   38.1000       20100    0.821           76.3   \n",
      "42        5.97   57.5000       33900    2.010           79.9   \n",
      "43        7.88   62.9000       28300   -1.430           77.5   \n",
      "44       11.40   43.6000       44000    3.220           79.5   \n",
      "45        6.22   33.3000       11100    5.440           74.6   \n",
      "46        8.06   32.4000        9350    7.470           76.7   \n",
      "47        4.66   26.6000        9860   10.100           70.5   \n",
      "48        6.91   46.6000        7300    2.650           74.1   \n",
      "49        4.48   58.9000       33700   24.900           60.9   \n",
      "50        2.66   23.3000        1420   11.600           61.7   \n",
      "51        6.03   68.7000       22700    1.740           76.0   \n",
      "52        4.86   63.9000        7350    4.230           65.3   \n",
      "53        8.95   37.4000       39800    0.351           80.0   \n",
      "54       11.90   28.1000       36900    1.050           81.4   \n",
      "55        3.50   18.9000       15400   16.600           62.9   \n",
      "56        5.69   42.7000        1660    4.300           65.5   \n",
      "57       10.10   52.8000        6730    8.550           72.8   \n",
      "58       11.60   37.1000       40400    0.758           80.1   \n",
      "59        5.22   45.9000        3060   16.600           62.2   \n",
      "60       10.30   30.7000       28700    0.673           80.4   \n",
      "61        5.86   49.2000       11200    0.480           71.3   \n",
      "62        6.85   36.3000        6710    5.140           71.3   \n",
      "63        4.93   43.2000        1190   16.100           58.0   \n",
      "64        8.50   35.2000        1390    2.970           55.6   \n",
      "65        5.38   79.1000        5840    5.730           65.5   \n",
      "66        6.91   64.7000        1500    5.450           32.1   \n",
      "67        7.33   76.5000       22300    2.330           74.5   \n",
      "68        9.40   43.3000       38800    5.470           82.0   \n",
      "69        4.05   27.1000        4410    8.980           66.2   \n",
      "70        2.61   22.4000        8430   15.300           69.9   \n",
      "71        5.60   19.4000       17400   15.900           74.5   \n",
      "72        8.41   34.1000       12700   16.600           67.2   \n",
      "73        9.19   86.5000       45700   -3.220           80.4   \n",
      "74        7.63   32.9000       29600    1.770           81.4   \n",
      "75        9.53   27.2000       36200    0.319           81.7   \n",
      "76        4.81   49.6000        8000    9.810           74.7   \n",
      "77        9.49   13.6000       35800   -1.900           82.8   \n",
      "78        8.04   69.0000        9470    8.430           75.8   \n",
      "79        4.29   29.9000       20100   19.500           68.4   \n",
      "80        4.75   33.6000        2480    2.090           62.8   \n",
      "81       11.30   79.9000        1730    1.520           60.7   \n",
      "82        2.63   30.4000       75200   11.200           78.2   \n",
      "83        6.18   81.7000        2790   10.000           68.5   \n",
      "84        4.47   49.3000        3980    9.200           63.8   \n",
      "85        6.68   55.1000       18300   -0.812           73.1   \n",
      "86        7.03   60.2000       16300    0.238           79.8   \n",
      "87       11.10  101.0000        2380    4.150           46.5   \n",
      "88       11.80   92.6000         700    5.470           60.8   \n",
      "89        3.88   42.1000       29600   14.200           76.1   \n",
      "90        7.04   67.2000       21100    2.380           73.2   \n",
      "91        7.77  142.0000       91700    3.620           81.3   \n",
      "92        7.09   58.1000       11400    2.040           74.0   \n",
      "93        3.77   43.0000        1390    8.790           60.8   \n",
      "94        6.59   34.9000        1030   12.100           53.1   \n",
      "95        4.39   71.0000       21100    7.270           74.5   \n",
      "96        6.33   65.4000       10500    2.880           77.9   \n",
      "97        4.98   35.1000        1870    4.370           59.5   \n",
      "98        8.65  154.0000       28300    3.830           80.3   \n",
      "99        4.41   61.2000        3320   18.900           68.2   \n",
      "100       6.00   62.2000       15900    1.130           73.4   \n",
      "101      14.20   81.0000        3340    3.800           65.4   \n",
      "102      11.70   78.5000        3910   11.100           69.7   \n",
      "103       5.44   56.7000        7710   39.200           66.2   \n",
      "104       9.11   62.7000       14000    1.600           76.4   \n",
      "105       5.20   43.0000        6440    0.976           73.5   \n",
      "106       5.21   46.2000         918    7.640           54.5   \n",
      "107       1.97    0.0659        3720    7.040           66.8   \n",
      "108       6.78   60.7000        8460    3.560           58.6   \n",
      "109       5.25   36.4000        1990   15.100           68.3   \n",
      "110      11.90   63.6000       45500    0.848           80.7   \n",
      "111      10.10   28.0000       32300    3.730           80.9   \n",
      "112       5.16   49.1000         814    2.550           58.8   \n",
      "113       5.07   17.4000        5150  104.000           60.5   \n",
      "114       9.48   28.5000       62300    5.950           81.0   \n",
      "115       2.77   41.2000       45300   15.600           76.1   \n",
      "116       2.20   19.4000        4280   10.900           65.3   \n",
      "117       8.10   78.2000       15400    2.590           77.8   \n",
      "118       5.87   51.5000        7290    6.100           74.1   \n",
      "119       5.08   23.8000        9960    5.710           77.9   \n",
      "120       3.61   36.6000        5600    4.220           69.0   \n",
      "121       7.46   42.1000       21800    1.660           76.3   \n",
      "122      11.00   37.4000       27200    0.643           79.8   \n",
      "123       1.81   23.8000      125000    6.980           79.5   \n",
      "124       5.58   38.8000       17800    3.530           73.7   \n",
      "125       5.08   21.1000       23100   14.200           69.2   \n",
      "126      10.50   30.0000        1350    2.610           64.6   \n",
      "127       6.47   53.1000        5400    1.720           71.5   \n",
      "128       4.29   33.0000       45400   17.200           75.1   \n",
      "129       5.66   40.3000        2180    1.850           64.0   \n",
      "130      10.40   47.9000       12700    5.880           74.7   \n",
      "131       3.40  108.0000       20400   -4.210           73.4   \n",
      "132      13.10   34.5000        1220   17.200           55.0   \n",
      "133       3.96  174.0000       72100   -0.046           82.7   \n",
      "134       8.79   77.8000       25200    0.485           75.5   \n",
      "135       9.41   62.9000       28700   -0.987           79.5   \n",
      "136       8.55   81.2000        1780    6.810           61.7   \n",
      "137       8.94   27.4000       12000    6.350           54.3   \n",
      "138       6.93   46.2000       30400    3.160           80.1   \n",
      "139       9.54   26.8000       32500    0.160           81.9   \n",
      "140       2.94   26.8000        8560   22.800           74.4   \n",
      "141       4.47   57.1000        9920    4.440           71.6   \n",
      "142       6.32   17.2000        3370   19.600           66.3   \n",
      "143       7.01   38.4000       14200    7.200           70.3   \n",
      "144       9.63   40.7000       42900    0.991           81.5   \n",
      "145      11.50   53.3000       55500    0.317           82.2   \n",
      "146       5.98   58.6000        2110   12.500           69.6   \n",
      "147       6.01   29.1000        2090    9.250           59.3   \n",
      "148       3.88   60.8000       13500    4.080           76.6   \n",
      "149       9.12   27.8000        1850   26.500           71.1   \n",
      "150       7.65   57.3000        1210    1.180           58.7   \n",
      "151       5.07   60.3000        4980    3.680           69.9   \n",
      "152       6.21   55.3000       10400    3.820           76.9   \n",
      "153       6.74   25.5000       18000    7.010           78.2   \n",
      "154       2.50   44.5000        9940    2.310           67.9   \n",
      "155       9.01   28.6000        1540   10.600           56.8   \n",
      "156       7.72   51.1000        7820   13.400           70.4   \n",
      "157       3.66   63.6000       57600   12.500           76.5   \n",
      "158       9.64   30.8000       36200    1.570           80.3   \n",
      "159      17.90   15.8000       49400    1.220           78.7   \n",
      "160       8.35   25.4000       17100    4.910           76.4   \n",
      "161       5.81   28.5000        4240   16.500           68.8   \n",
      "162       5.25   52.7000        2950    2.620           63.0   \n",
      "163       4.91   17.6000       16500   45.900           75.4   \n",
      "164       6.84   80.2000        4490   12.100           73.1   \n",
      "165       5.18   34.4000        4480   23.600           67.5   \n",
      "166       5.89   30.9000        3280   14.000           52.0   \n",
      "\n",
      "     Jumlah_fertiliti  GDPperkapita  \n",
      "0                5.82           553  \n",
      "1                1.65          4090  \n",
      "2                2.89          4460  \n",
      "3                6.16          3530  \n",
      "4                2.13         12200  \n",
      "5                2.37         10300  \n",
      "6                1.69          3220  \n",
      "7                1.93         51900  \n",
      "8                1.44         46900  \n",
      "9                1.92          5840  \n",
      "10               1.86         28000  \n",
      "11               2.16         20700  \n",
      "12               2.33           758  \n",
      "13               1.78         16000  \n",
      "14               1.49          6030  \n",
      "15               1.86         44400  \n",
      "16               2.71          4340  \n",
      "17               5.36           758  \n",
      "18               2.38          2180  \n",
      "19               3.20          1980  \n",
      "20               1.31          4610  \n",
      "21               2.88          6350  \n",
      "22               1.80         11200  \n",
      "23               1.84         35300  \n",
      "24               1.57          6840  \n",
      "25               5.87           575  \n",
      "26               6.26           231  \n",
      "27               2.88           786  \n",
      "28               5.11          1310  \n",
      "29               1.63         47400  \n",
      "30               2.67          3310  \n",
      "31               5.21           446  \n",
      "32               6.59           897  \n",
      "33               1.88         12900  \n",
      "34               1.59          4560  \n",
      "35               2.01          6250  \n",
      "36               4.75           769  \n",
      "37               6.54           334  \n",
      "38               4.95          2740  \n",
      "39               1.92          8200  \n",
      "40               5.27          1220  \n",
      "41               1.55         13500  \n",
      "42               1.42         30800  \n",
      "43               1.51         19800  \n",
      "44               1.87         58000  \n",
      "45               2.60          5450  \n",
      "46               2.66          4660  \n",
      "47               3.19          2600  \n",
      "48               2.27          2990  \n",
      "49               5.21         17100  \n",
      "50               4.61           482  \n",
      "51               1.72         14600  \n",
      "52               2.67          3650  \n",
      "53               1.87         46200  \n",
      "54               2.03         40600  \n",
      "55               4.08          8750  \n",
      "56               5.71           562  \n",
      "57               1.92          2960  \n",
      "58               1.39         41800  \n",
      "59               4.27          1310  \n",
      "60               1.48         26900  \n",
      "61               2.24          7370  \n",
      "62               3.38          2830  \n",
      "63               5.34           648  \n",
      "64               5.05           547  \n",
      "65               2.65          3040  \n",
      "66               3.33           662  \n",
      "67               1.25         13100  \n",
      "68               2.20         41900  \n",
      "69               2.60          1350  \n",
      "70               2.48          3110  \n",
      "71               1.76          6530  \n",
      "72               4.56          4500  \n",
      "73               2.05         48700  \n",
      "74               3.03         30600  \n",
      "75               1.46         35800  \n",
      "76               2.17          4680  \n",
      "77               1.39         44500  \n",
      "78               3.66          3680  \n",
      "79               2.60          9070  \n",
      "80               4.37           967  \n",
      "81               3.84          1490  \n",
      "82               2.21         38500  \n",
      "83               3.10           880  \n",
      "84               3.15          1140  \n",
      "85               1.36         11300  \n",
      "86               1.61          8860  \n",
      "87               3.30          1170  \n",
      "88               5.02           327  \n",
      "89               2.41         12100  \n",
      "90               1.50         12000  \n",
      "91               1.63        105000  \n",
      "92               1.47          4540  \n",
      "93               4.60           413  \n",
      "94               5.31           459  \n",
      "95               2.15          9070  \n",
      "96               2.23          7100  \n",
      "97               6.55           708  \n",
      "98               1.36         21100  \n",
      "99               4.98          1200  \n",
      "100              1.57          8000  \n",
      "101              3.46          2860  \n",
      "102              1.27          1630  \n",
      "103              2.64          2650  \n",
      "104              1.77          6680  \n",
      "105              2.58          2830  \n",
      "106              5.56           419  \n",
      "107              2.41           988  \n",
      "108              3.60          5190  \n",
      "109              2.61           592  \n",
      "110              1.79         50300  \n",
      "111              2.17         33700  \n",
      "112              7.49           348  \n",
      "113              5.84          2330  \n",
      "114              1.95         87800  \n",
      "115              2.90         19300  \n",
      "116              3.85          1040  \n",
      "117              2.62          8080  \n",
      "118              2.73          3230  \n",
      "119              2.54          5020  \n",
      "120              3.16          2130  \n",
      "121              1.41         12600  \n",
      "122              1.39         22500  \n",
      "123              2.07         70300  \n",
      "124              1.59          8230  \n",
      "125              1.57         10700  \n",
      "126              4.51           563  \n",
      "127              4.34          3450  \n",
      "128              2.96         19300  \n",
      "129              5.06          1000  \n",
      "130              1.40          5410  \n",
      "131              2.17         10800  \n",
      "132              5.20           399  \n",
      "133              1.15         46600  \n",
      "134              1.43         16600  \n",
      "135              1.57         23400  \n",
      "136              4.24          1290  \n",
      "137              2.59          7280  \n",
      "138              1.23         22100  \n",
      "139              1.37         30700  \n",
      "140              2.20          2810  \n",
      "141              2.07          6230  \n",
      "142              4.88          1480  \n",
      "143              2.52          8300  \n",
      "144              1.98         52100  \n",
      "145              1.52         74600  \n",
      "146              3.51           738  \n",
      "147              5.43           702  \n",
      "148              1.55          5080  \n",
      "149              6.23          3600  \n",
      "150              4.87           488  \n",
      "151              3.91          3550  \n",
      "152              2.14          4140  \n",
      "153              2.15         10700  \n",
      "154              2.83          4440  \n",
      "155              6.15           595  \n",
      "156              1.44          2970  \n",
      "157              1.87         35000  \n",
      "158              1.92         38900  \n",
      "159              1.93         48400  \n",
      "160              2.08         11900  \n",
      "161              2.34          1380  \n",
      "162              3.50          2970  \n",
      "163              2.47         13500  \n",
      "164              1.95          1310  \n",
      "165              4.67          1310  \n",
      "166              5.40          1460  \n"
     ]
    }
   ],
   "source": [
    "with pd.option_context('display.max_rows', None, 'display.max_columns', None):\n",
    "    print(df1)"
   ]
  },
  {
   "cell_type": "code",
   "execution_count": 79,
   "id": "357d1d3d",
   "metadata": {},
   "outputs": [],
   "source": [
    "df1 = pd.DataFrame(X.loc[:, ['Negara', 'cluster']])\n",
    "df2 = pd.DataFrame(df_min_max.loc[:, ['Negara']])\n",
    "df1['Negara'] = df2['Negara']"
   ]
  },
  {
   "cell_type": "code",
   "execution_count": 80,
   "id": "67c04036",
   "metadata": {},
   "outputs": [
    {
     "name": "stdout",
     "output_type": "stream",
     "text": [
      "                             Negara  cluster\n",
      "0                       Afghanistan        0\n",
      "1                           Albania        2\n",
      "2                           Algeria        2\n",
      "3                            Angola        2\n",
      "4               Antigua and Barbuda        2\n",
      "5                         Argentina        2\n",
      "6                           Armenia        2\n",
      "7                         Australia        1\n",
      "8                           Austria        1\n",
      "9                        Azerbaijan        2\n",
      "10                          Bahamas        1\n",
      "11                          Bahrain        1\n",
      "12                       Bangladesh        0\n",
      "13                         Barbados        2\n",
      "14                          Belarus        2\n",
      "15                          Belgium        1\n",
      "16                           Belize        2\n",
      "17                            Benin        0\n",
      "18                           Bhutan        2\n",
      "19                          Bolivia        2\n",
      "20           Bosnia and Herzegovina        2\n",
      "21                         Botswana        2\n",
      "22                           Brazil        2\n",
      "23                           Brunei        1\n",
      "24                         Bulgaria        2\n",
      "25                     Burkina Faso        0\n",
      "26                          Burundi        0\n",
      "27                         Cambodia        0\n",
      "28                         Cameroon        0\n",
      "29                           Canada        1\n",
      "30                       Cape Verde        2\n",
      "31         Central African Republic        0\n",
      "32                             Chad        0\n",
      "33                            Chile        2\n",
      "34                            China        2\n",
      "35                         Colombia        2\n",
      "36                          Comoros        0\n",
      "37                 Congo, Dem. Rep.        0\n",
      "38                      Congo, Rep.        2\n",
      "39                       Costa Rica        2\n",
      "40                    Cote d'Ivoire        0\n",
      "41                          Croatia        2\n",
      "42                           Cyprus        1\n",
      "43                   Czech Republic        1\n",
      "44                          Denmark        1\n",
      "45               Dominican Republic        2\n",
      "46                          Ecuador        2\n",
      "47                            Egypt        2\n",
      "48                      El Salvador        2\n",
      "49                Equatorial Guinea        1\n",
      "50                          Eritrea        0\n",
      "51                          Estonia        2\n",
      "52                             Fiji        2\n",
      "53                          Finland        1\n",
      "54                           France        1\n",
      "55                            Gabon        2\n",
      "56                           Gambia        0\n",
      "57                          Georgia        2\n",
      "58                          Germany        1\n",
      "59                            Ghana        0\n",
      "60                           Greece        1\n",
      "61                          Grenada        2\n",
      "62                        Guatemala        2\n",
      "63                           Guinea        0\n",
      "64                    Guinea-Bissau        0\n",
      "65                           Guyana        2\n",
      "66                            Haiti        0\n",
      "67                          Hungary        2\n",
      "68                          Iceland        1\n",
      "69                            India        0\n",
      "70                        Indonesia        2\n",
      "71                             Iran        2\n",
      "72                             Iraq        2\n",
      "73                          Ireland        1\n",
      "74                           Israel        1\n",
      "75                            Italy        1\n",
      "76                          Jamaica        2\n",
      "77                            Japan        1\n",
      "78                           Jordan        2\n",
      "79                       Kazakhstan        2\n",
      "80                            Kenya        0\n",
      "81                         Kiribati        0\n",
      "82                           Kuwait        1\n",
      "83                  Kyrgyz Republic        0\n",
      "84                              Lao        0\n",
      "85                           Latvia        2\n",
      "86                          Lebanon        2\n",
      "87                          Lesotho        0\n",
      "88                          Liberia        0\n",
      "89                            Libya        1\n",
      "90                        Lithuania        2\n",
      "91                       Luxembourg        1\n",
      "92                   Macedonia, FYR        2\n",
      "93                       Madagascar        0\n",
      "94                           Malawi        0\n",
      "95                         Malaysia        2\n",
      "96                         Maldives        2\n",
      "97                             Mali        0\n",
      "98                            Malta        1\n",
      "99                       Mauritania        0\n",
      "100                       Mauritius        2\n",
      "101           Micronesia, Fed. Sts.        0\n",
      "102                         Moldova        0\n",
      "103                        Mongolia        2\n",
      "104                      Montenegro        2\n",
      "105                         Morocco        2\n",
      "106                      Mozambique        0\n",
      "107                         Myanmar        0\n",
      "108                         Namibia        2\n",
      "109                           Nepal        0\n",
      "110                     Netherlands        1\n",
      "111                     New Zealand        1\n",
      "112                           Niger        0\n",
      "113                         Nigeria        2\n",
      "114                          Norway        1\n",
      "115                            Oman        1\n",
      "116                        Pakistan        0\n",
      "117                          Panama        2\n",
      "118                        Paraguay        2\n",
      "119                            Peru        2\n",
      "120                     Philippines        2\n",
      "121                          Poland        2\n",
      "122                        Portugal        1\n",
      "123                           Qatar        1\n",
      "124                         Romania        2\n",
      "125                          Russia        2\n",
      "126                          Rwanda        0\n",
      "127                           Samoa        2\n",
      "128                    Saudi Arabia        1\n",
      "129                         Senegal        0\n",
      "130                          Serbia        2\n",
      "131                      Seychelles        2\n",
      "132                    Sierra Leone        0\n",
      "133                       Singapore        1\n",
      "134                 Slovak Republic        1\n",
      "135                        Slovenia        1\n",
      "136                 Solomon Islands        0\n",
      "137                    South Africa        2\n",
      "138                     South Korea        1\n",
      "139                           Spain        1\n",
      "140                       Sri Lanka        2\n",
      "141  St. Vincent and the Grenadines        2\n",
      "142                           Sudan        0\n",
      "143                        Suriname        2\n",
      "144                          Sweden        1\n",
      "145                     Switzerland        1\n",
      "146                      Tajikistan        0\n",
      "147                        Tanzania        0\n",
      "148                        Thailand        2\n",
      "149                     Timor-Leste        0\n",
      "150                            Togo        0\n",
      "151                           Tonga        2\n",
      "152                         Tunisia        2\n",
      "153                          Turkey        2\n",
      "154                    Turkmenistan        2\n",
      "155                          Uganda        0\n",
      "156                         Ukraine        2\n",
      "157            United Arab Emirates        1\n",
      "158                  United Kingdom        1\n",
      "159                   United States        1\n",
      "160                         Uruguay        2\n",
      "161                      Uzbekistan        0\n",
      "162                         Vanuatu        0\n",
      "163                       Venezuela        2\n",
      "164                         Vietnam        0\n",
      "165                           Yemen        0\n",
      "166                          Zambia        0\n"
     ]
    }
   ],
   "source": [
    "with pd.option_context('display.max_rows', None, 'display.max_columns', None):\n",
    "    print(df1)"
   ]
  },
  {
   "cell_type": "code",
   "execution_count": null,
   "id": "067bb8f5",
   "metadata": {},
   "outputs": [],
   "source": []
  },
  {
   "cell_type": "code",
   "execution_count": null,
   "id": "5937aa70",
   "metadata": {},
   "outputs": [],
   "source": []
  },
  {
   "cell_type": "code",
   "execution_count": null,
   "id": "c4539b5e",
   "metadata": {},
   "outputs": [],
   "source": []
  }
 ],
 "metadata": {
  "kernelspec": {
   "display_name": "Python 3 (ipykernel)",
   "language": "python",
   "name": "python3"
  },
  "language_info": {
   "codemirror_mode": {
    "name": "ipython",
    "version": 3
   },
   "file_extension": ".py",
   "mimetype": "text/x-python",
   "name": "python",
   "nbconvert_exporter": "python",
   "pygments_lexer": "ipython3",
   "version": "3.9.12"
  }
 },
 "nbformat": 4,
 "nbformat_minor": 5
}
